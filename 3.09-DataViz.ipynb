{
 "cells": [
  {
   "cell_type": "markdown",
   "metadata": {},
   "source": [
    "> Projeto Desenvolve <br>\n",
    "Programação Intermediária com Python <br>\n",
    "Profa. Camila Laranjeira (mila@projetodesenvolve.com.br) <br>\n",
    "\n",
    "# 3.9 - Visualização de Dados"
   ]
  },
  {
   "cell_type": "markdown",
   "metadata": {
    "vscode": {
     "languageId": "plaintext"
    }
   },
   "source": [
    "## Exercícios\n",
    "Vamos trabalhar com as mesmas bases de dados do exercício de Pandas. Aqui estão os links caso você queira baixar novamente, mas recomendo trabalhar com o `wc_formatado.csv` que exportamos na questão Q2 do exercício anterior.\n",
    "\n",
    "* https://raw.githubusercontent.com/camilalaranjeira/python-intermediario/main/fifa-wc/matches_1930_2022.csv\n",
    "* https://raw.githubusercontent.com/camilalaranjeira/python-intermediario/main/fifa-wc/matches_1991_2023.csv\n",
    "\n",
    "Para relembrar, essas são as colunas do dataframe:\n",
    "```\n",
    "Data columns (total 21 columns):\n",
    " #   Column             Non-Null Count  Dtype         \n",
    "---  ------             --------------  -----         \n",
    " 0   time_1             1312 non-null   string        \n",
    " 1   time_2             1312 non-null   string        \n",
    " 2   gols_1             1312 non-null   int64         \n",
    " 3   gols_2             1312 non-null   int64         \n",
    " 4   data               1312 non-null   datetime64[ns]\n",
    " 5   ano                1312 non-null   int64         \n",
    " 6   país_sede          1312 non-null   string        \n",
    " 7   comparecimento     1312 non-null   int64         \n",
    " 8   resultado          1312 non-null   string        \n",
    " 9   rodada             1312 non-null   category      \n",
    " 10  gols_1_detalhes    970 non-null    string        \n",
    " 11  gols_2_detalhes    771 non-null    string        \n",
    " 12  gols_1_contra      57 non-null     string        \n",
    " 13  gols_2_contra      30 non-null     string        \n",
    " 14  gols_1_penalti     170 non-null    string        \n",
    " 15  gols_2_penalti     119 non-null    string        \n",
    " 16  cartao_vermelho_1  59 non-null     string        \n",
    " 17  cartao_vermelho_2  65 non-null     string        \n",
    " 18  cartao_amarelo_1   834 non-null    string        \n",
    " 19  cartao_amarelo_2   857 non-null    string        \n",
    " 20  copa               1312 non-null   string \n",
    "```"
   ]
  },
  {
   "cell_type": "markdown",
   "metadata": {},
   "source": [
    "#### Q1.\n",
    "Realize todos os imports necessários para executar as três bibliotecas de visualização que conhecemos:\n",
    "* Matplotlib (lembre-se do comando mágico)\n",
    "* Seaborn\n",
    "* Plotly\n",
    "\n",
    "Para cada uma delas, altere o tema padrão de visualização. "
   ]
  },
  {
   "cell_type": "code",
   "execution_count": 30,
   "metadata": {},
   "outputs": [
    {
     "name": "stdout",
     "output_type": "stream",
     "text": [
      "<class 'pandas.core.frame.DataFrame'>\n",
      "RangeIndex: 1312 entries, 0 to 1311\n",
      "Data columns (total 21 columns):\n",
      " #   Column             Non-Null Count  Dtype         \n",
      "---  ------             --------------  -----         \n",
      " 0   time_1             1312 non-null   string        \n",
      " 1   time_2             1312 non-null   string        \n",
      " 2   gols_1             1312 non-null   int64         \n",
      " 3   gols_2             1312 non-null   int64         \n",
      " 4   data               1312 non-null   datetime64[ns]\n",
      " 5   ano                1312 non-null   int64         \n",
      " 6   país_sede          1312 non-null   string        \n",
      " 7   comparecimento     1312 non-null   int64         \n",
      " 8   resultado          1312 non-null   string        \n",
      " 9   rodada             1312 non-null   category      \n",
      " 10  gols_1_detalhes    970 non-null    string        \n",
      " 11  gols_2_detalhes    771 non-null    string        \n",
      " 12  gols_1_contra      57 non-null     string        \n",
      " 13  gols_2_contra      30 non-null     string        \n",
      " 14  gols_1_penalti     170 non-null    string        \n",
      " 15  gols_2_penalti     119 non-null    string        \n",
      " 16  cartao_vermelho_1  59 non-null     string        \n",
      " 17  cartao_vermelho_2  65 non-null     string        \n",
      " 18  cartao_amarelo_1   834 non-null    string        \n",
      " 19  cartao_amarelo_2   857 non-null    string        \n",
      " 20  copa               1312 non-null   string        \n",
      "dtypes: category(1), datetime64[ns](1), int64(4), string(15)\n",
      "memory usage: 206.8 KB\n",
      "None\n"
     ]
    }
   ],
   "source": [
    "import matplotlib.pyplot as plt\n",
    "import seaborn as sns\n",
    "import plotly.express as px\n",
    "import pandas as pd\n",
    "import numpy as np\n",
    "\n",
    "wcwomen_df = pd.read_csv('matches_1991_2023.csv')\n",
    "wcmen_df   = pd.read_csv('matches_1930_2022.csv')\n",
    "wc = pd.concat((wcwomen_df,wcmen_df)).reset_index()\n",
    "\n",
    "nomes_traduzidos = {'home_team': 'time_1', 'away_team': 'time_2', 'home_score': 'gols_1', 'away_score': 'gols_2',\n",
    "                    'Date': 'data', 'Year': 'ano', 'Host': 'país_sede', 'Attendance': 'comparecimento',\n",
    "                    'Score': 'resultado', 'Round': 'rodada', 'home_goal': 'gols_1_detalhes', 'away_goal': 'gols_2_detalhes',\n",
    "                    'home_own_goal': 'gols_1_contra', 'away_own_goal': 'gols_2_contra',\n",
    "                    'home_penalty_goal': 'gols_1_penalti', 'away_penalty_goal': 'gols_2_penalti',\n",
    "                    'home_red_card': 'cartao_vermelho_1', 'away_red_card': 'cartao_vermelho_2',\n",
    "                    'home_yellow_card_long': 'cartao_amarelo_1', 'away_yellow_card_long': 'cartao_amarelo_2'}\n",
    "\n",
    "wc = wc.loc[:, nomes_traduzidos.keys()]\n",
    "wc.columns = nomes_traduzidos.values()\n",
    "\n",
    "copa = wc['ano'].apply( lambda x: 'Masculina' if x % 2 == 0 else 'Feminina').astype('string')\n",
    "wc['copa'] = copa\n",
    "# display(wc)\n",
    "wc['time_1'] = wc['time_1'].astype('string')\n",
    "wc['time_2'] = wc['time_2'].astype('string')\n",
    "wc['gols_1'] = wc['gols_1'].astype('int64')\n",
    "wc['gols_2'] = wc['gols_2'].astype('int64')\n",
    "wc['data'] = pd.to_datetime(wc['data'])\n",
    "wc['ano'] = wc['ano'].astype('int64')\n",
    "wc['país_sede'] = wc['país_sede'].astype('string')\n",
    "wc['comparecimento'] = wc['comparecimento'].astype('int64')\n",
    "wc['resultado'] = wc['resultado'].astype('string')\n",
    "wc['rodada'] = wc['rodada'].astype('category')\n",
    "wc['gols_1_detalhes'] = wc['gols_1_detalhes'].astype('string')\n",
    "wc['gols_2_detalhes'] = wc['gols_2_detalhes'].astype('string')\n",
    "wc['gols_1_contra'] = wc['gols_1_contra'].astype('string')\n",
    "wc['gols_2_contra'] = wc['gols_2_contra'].astype('string')\n",
    "wc['gols_1_penalti'] = wc['gols_1_penalti'].astype('string')\n",
    "wc['gols_2_penalti'] = wc['gols_2_penalti'].astype('string')\n",
    "wc['cartao_vermelho_1'] = wc['cartao_vermelho_1'].astype('string')\n",
    "wc['cartao_vermelho_2'] = wc['cartao_vermelho_2'].astype('string')\n",
    "wc['cartao_amarelo_1'] = wc['cartao_amarelo_1'].astype('string')\n",
    "wc['cartao_amarelo_2'] = wc['cartao_amarelo_2'].astype('string')\n",
    "wc['copa'] = wc['copa'].astype('string')\n",
    "\n",
    "wc.to_csv('wc_formatado.csv', index=False)\n",
    "\n",
    "print(wc.info())"
   ]
  },
  {
   "cell_type": "markdown",
   "metadata": {
    "vscode": {
     "languageId": "plaintext"
    }
   },
   "source": [
    "#### Q2.\n",
    "Sobre os dados de copa do mundo, qual a distribuição de público presente nos jogos? Isso pode ser respondido com um histograma com os dados da coluna `comparecimento`.  \n",
    "\n",
    "Lembre-se que alguns jogos estavam com público 0 incorretamente, que tal remover essas ocorrências para não atrapalhar sua visualzação?\n",
    "\n",
    "Você deve implementar essa visualização nas três bibliotecas que vimos:\n",
    "* Matplotlib\n",
    "* Seaborn\n",
    "* Plotly\n",
    "\n",
    "Garanta que o gráfico tenha pelo menos os atributos de título e rótulos de dimensão."
   ]
  },
  {
   "cell_type": "code",
   "execution_count": 2,
   "metadata": {},
   "outputs": [
    {
     "data": {
      "image/png": "[encoded data removed]",
      "text/plain": [
       "<Figure size 1000x600 with 1 Axes>"
      ]
     },
     "metadata": {},
     "output_type": "display_data"
    }
   ],
   "source": [
    "#### Solução com matplotlib\n",
    "wc_filtered = wc[wc['comparecimento'] > 0]\n",
    "\n",
    "plt.figure(figsize=(10, 6))\n",
    "plt.hist(wc_filtered['comparecimento'], bins = 100)\n",
    "plt.title('Distribuição de Público nos Jogos da Copa do Mundo')\n",
    "plt.xlabel('Comparecimento')\n",
    "plt.ylabel('Frequência')\n",
    "plt.grid(True)\n",
    "plt.show()\n"
   ]
  },
  {
   "cell_type": "code",
   "execution_count": 3,
   "metadata": {},
   "outputs": [
    {
     "data": {
      "image/png": "[encoded data removed]",
      "text/plain": [
       "<Figure size 1000x600 with 1 Axes>"
      ]
     },
     "metadata": {},
     "output_type": "display_data"
    }
   ],
   "source": [
    "#### solução com seaborn\n",
    "plt.figure(figsize=(10, 6))\n",
    "sns.histplot(wc_filtered['comparecimento'], bins=70, kde=False, color='skyblue')\n",
    "plt.title('Distribuição de Público nos Jogos da Copa do Mundo')\n",
    "plt.xlabel('Comparecimento')\n",
    "plt.ylabel('Frequência')\n",
    "plt.grid(True)\n",
    "plt.show()\n"
   ]
  },
  {
   "cell_type": "code",
   "execution_count": 4,
   "metadata": {},
   "outputs": [
    {
     "data": {
      "application/vnd.plotly.v1+json": {
       "config": {
        "plotlyServerURL": "https://plot.ly"
       },
       "data": [
        {
         "alignmentgroup": "True",
         "bingroup": "x",
         "hovertemplate": "comparecimento=%{x}<br>count=%{y}<extra></extra>",
         "legendgroup": "",
         "marker": {
          "color": "#636efa",
          "pattern": {
           "shape": ""
          }
         },
         "name": "",
         "nbinsx": 20,
         "offsetgroup": "",
         "orientation": "v",
         "showlegend": false,
         "type": "histogram",
         "x": [
          75784,
          49461,
          75784,
          43217,
          49461,
          75784,
          32021,
          43217,
          27706,
          13557,
          49461,
          75784,
          40233,
          27706,
          43217,
          33042,
          17342,
          38945,
          14967,
          17907,
          27638,
          40498,
          8215,
          40958,
          17897,
          13497,
          20957,
          8117,
          24884,
          27706,
          12886,
          25947,
          34697,
          40499,
          29143,
          49378,
          15987,
          8834,
          40439,
          12675,
          27312,
          6645,
          49156,
          6992,
          20983,
          17065,
          24323,
          32357,
          10769,
          30889,
          27256,
          13142,
          18317,
          11991,
          39045,
          41107,
          16111,
          44369,
          16989,
          21410,
          13711,
          22966,
          42137,
          75784,
          57900,
          20316,
          48452,
          53512,
          22600,
          25301,
          45595,
          21111,
          17492,
          21076,
          19633,
          38078,
          20148,
          17988,
          19277,
          8009,
          22418,
          13567,
          14319,
          28205,
          21669,
          17402,
          15502,
          11814,
          13034,
          28267,
          9354,
          45594,
          22423,
          14856,
          13201,
          12016,
          20294,
          17032,
          20011,
          11252,
          20761,
          34872,
          10654,
          15875,
          18591,
          25055,
          10710,
          15380,
          17668,
          13188,
          15283,
          12044,
          11058,
          45261,
          53341,
          21483,
          31467,
          51176,
          19814,
          54027,
          24859,
          24141,
          28717,
          19829,
          19412,
          12054,
          53855,
          15518,
          22486,
          15958,
          9543,
          13862,
          21562,
          21562,
          10177,
          14522,
          52193,
          10177,
          26191,
          7147,
          26191,
          45420,
          13138,
          28623,
          13138,
          28623,
          32716,
          31441,
          31441,
          32716,
          35544,
          18967,
          18987,
          35544,
          11686,
          10175,
          11686,
          10175,
          31148,
          25942,
          31148,
          25942,
          20953,
          20953,
          53058,
          53058,
          48817,
          25515,
          25676,
          45434,
          24605,
          25598,
          26395,
          26067,
          32068,
          31000,
          47818,
          53819,
          52000,
          35061,
          37200,
          29586,
          43817,
          29300,
          43817,
          56208,
          33196,
          26100,
          39817,
          30730,
          33835,
          54000,
          54000,
          33835,
          35600,
          27730,
          27730,
          35600,
          33500,
          25952,
          30752,
          50800,
          35100,
          27146,
          21740,
          28098,
          26137,
          25253,
          27623,
          27623,
          20021,
          20021,
          25103,
          25103,
          22828,
          22828,
          19132,
          19132,
          17618,
          14356,
          14356,
          17618,
          13929,
          31553,
          31553,
          13929,
          15490,
          15490,
          16316,
          15529,
          35000,
          34144,
          8500,
          10027,
          13486,
          24347,
          16340,
          16404,
          90185,
          90185,
          73123,
          28986,
          54642,
          54642,
          21411,
          21411,
          22109,
          22109,
          50484,
          50484,
          29401,
          29401,
          34256,
          34256,
          65080,
          20129,
          65080,
          20129,
          16448,
          17668,
          17668,
          16448,
          17100,
          14873,
          14867,
          17100,
          78972,
          78972,
          23298,
          23298,
          17158,
          4335,
          2893,
          3693,
          3756,
          4655,
          2317,
          7537,
          2715,
          1843,
          1619,
          1150,
          7811,
          3203,
          2740,
          5520,
          1500,
          250,
          5855,
          2286,
          4635,
          655,
          4344,
          1500,
          14500,
          3824,
          63000,
          20000,
          16000,
          20000,
          12000,
          12000,
          13000,
          55000,
          14000,
          12000,
          14000,
          14000,
          15500,
          12000,
          12000,
          12000,
          10000,
          15500,
          14000,
          27000,
          14000,
          14000,
          11000,
          14000,
          14000,
          65000,
          88966,
          44137,
          68294,
          88966,
          44198,
          68895,
          43893,
          88235,
          44667,
          83720,
          42523,
          43847,
          40989,
          65985,
          44846,
          45032,
          44097,
          43443,
          85986,
          41378,
          43102,
          43984,
          67054,
          44851,
          41232,
          43627,
          84985,
          44089,
          44569,
          66784,
          42127,
          44297,
          39789,
          43983,
          43649,
          88668,
          41479,
          43738,
          44374,
          68895,
          41823,
          44259,
          42860,
          88966,
          40875,
          41797,
          44833,
          68463,
          39089,
          41663,
          42662,
          88103,
          59407,
          42608,
          40013,
          40432,
          88012,
          42925,
          39369,
          40875,
          45334,
          41721,
          43418,
          67372,
          78011,
          64406,
          78011,
          64286,
          39991,
          44287,
          43319,
          42873,
          64042,
          44190,
          41970,
          41466,
          78011,
          40851,
          42873,
          44287,
          42189,
          41970,
          33973,
          37168,
          41835,
          33061,
          43319,
          44190,
          44073,
          78011,
          43472,
          64468,
          36823,
          41970,
          33973,
          41685,
          43319,
          32572,
          42873,
          44190,
          43472,
          44287,
          64468,
          40904,
          33167,
          40727,
          32789,
          43319,
          78011,
          42678,
          42718,
          40842,
          44190,
          64468,
          42300,
          43257,
          41064,
          41432,
          78011,
          43109,
          41279,
          44190,
          40502,
          31136,
          27015,
          62548,
          43866,
          78011,
          74738,
          68034,
          63267,
          58141,
          68551,
          51179,
          74240,
          60342,
          63255,
          51227,
          67882,
          43063,
          58817,
          41242,
          57714,
          73804,
          41876,
          67540,
          61397,
          39311,
          48011,
          43285,
          40322,
          73749,
          57823,
          39706,
          40340,
          59095,
          39375,
          62996,
          41212,
          69112,
          73819,
          42732,
          40123,
          57698,
          59621,
          40499,
          40285,
          51003,
          39224,
          68748,
          62575,
          39485,
          42877,
          74101,
          39982,
          56800,
          60342,
          37603,
          51081,
          39081,
          39760,
          68351,
          43012,
          74738,
          57174,
          58679,
          39800,
          40267,
          39216,
          48173,
          40275,
          62103,
          84490,
          36254,
          60960,
          62479,
          64100,
          55359,
          40186,
          84017,
          36742,
          62955,
          61962,
          54096,
          40510,
          84377,
          30597,
          34976,
          62712,
          34763,
          41958,
          28042,
          34850,
          53412,
          27967,
          63093,
          36893,
          35827,
          83391,
          37836,
          33425,
          39415,
          61874,
          38891,
          63644,
          34872,
          54386,
          26643,
          38229,
          84455,
          62010,
          34812,
          38074,
          38294,
          45573,
          64100,
          82174,
          31593,
          35370,
          32664,
          62453,
          42658,
          23871,
          37034,
          54331,
          83465,
          30620,
          62869,
          30325,
          38833,
          62660,
          31513,
          55686,
          38646,
          84490,
          64100,
          69000,
          52000,
          66000,
          65000,
          52000,
          48000,
          72000,
          50000,
          65000,
          43000,
          46000,
          45000,
          52000,
          41000,
          66000,
          43000,
          46000,
          72000,
          45000,
          43000,
          41000,
          50000,
          65000,
          52000,
          52000,
          38000,
          66000,
          48000,
          43000,
          72000,
          46000,
          45000,
          65000,
          50000,
          52000,
          41000,
          66000,
          43000,
          48000,
          45000,
          46000,
          52000,
          52000,
          43000,
          50000,
          41000,
          72000,
          43000,
          66000,
          65000,
          48000,
          52000,
          72000,
          46000,
          52000,
          43000,
          37216,
          41000,
          45000,
          48000,
          62959,
          49480,
          64950,
          52000,
          69029,
          63483,
          61058,
          65625,
          42114,
          44233,
          47436,
          37337,
          45666,
          38588,
          36380,
          40440,
          39747,
          38926,
          25176,
          40582,
          45213,
          46640,
          50239,
          26482,
          38524,
          43605,
          39291,
          65862,
          45777,
          44864,
          31024,
          30176,
          48100,
          33681,
          65320,
          47085,
          60778,
          39700,
          31000,
          45610,
          42299,
          66108,
          47226,
          36472,
          36750,
          36194,
          24000,
          35927,
          43500,
          52328,
          38070,
          30957,
          37306,
          35854,
          27217,
          55256,
          48760,
          32239,
          33842,
          31081,
          34050,
          25186,
          52721,
          28588,
          33679,
          30157,
          32218,
          62561,
          80000,
          44000,
          80000,
          60000,
          60000,
          43300,
          80000,
          49500,
          31800,
          30600,
          29800,
          33000,
          31800,
          77000,
          55000,
          45500,
          31800,
          39100,
          80000,
          42000,
          30600,
          45500,
          38500,
          35500,
          31800,
          39100,
          41275,
          33400,
          80000,
          39500,
          57000,
          36000,
          35500,
          33140,
          41275,
          45500,
          43300,
          35500,
          31800,
          55000,
          48000,
          36000,
          33500,
          80000,
          36000,
          35500,
          31800,
          38500,
          54587,
          43300,
          49000,
          33500,
          36000,
          38100,
          38000,
          39100,
          77000,
          27650,
          38100,
          55000,
          35200,
          36500,
          80000,
          29750,
          94194,
          91500,
          74110,
          91856,
          72000,
          83500,
          53400,
          63500,
          54367,
          71030,
          61355,
          84147,
          60277,
          90469,
          60246,
          53121,
          53001,
          63998,
          60578,
          52959,
          52535,
          72404,
          74914,
          77217,
          63998,
          63089,
          63160,
          93869,
          83401,
          62387,
          76322,
          54453,
          60790,
          83401,
          71528,
          74624,
          54453,
          61428,
          93869,
          54456,
          63113,
          44132,
          81061,
          50535,
          61219,
          52395,
          93194,
          73425,
          75338,
          91856,
          63117,
          56247,
          73603,
          51426,
          62628,
          59978,
          73347,
          55205,
          38971,
          73303,
          35500,
          34520,
          31818,
          73303,
          61381,
          74559,
          50026,
          47673,
          35950,
          29039,
          33288,
          34959,
          30223,
          62502,
          72510,
          27833,
          34857,
          73303,
          52733,
          37307,
          33288,
          33759,
          32733,
          58007,
          35267,
          31823,
          38962,
          71169,
          32257,
          38687,
          73423,
          35713,
          55759,
          32790,
          33288,
          30867,
          35238,
          33266,
          74765,
          62628,
          30791,
          42907,
          73303,
          73780,
          114600,
          21000,
          45000,
          114500,
          114580,
          45000,
          65000,
          41700,
          98728,
          38500,
          70000,
          19800,
          45000,
          26000,
          114580,
          32277,
          20000,
          36000,
          23980,
          51000,
          16000,
          103763,
          22700,
          28000,
          65000,
          20000,
          14200,
          31420,
          30000,
          20000,
          26500,
          114600,
          28000,
          19915,
          48000,
          13800,
          20200,
          32000,
          36540,
          45000,
          24000,
          30500,
          18000,
          110000,
          22000,
          23000,
          16500,
          60000,
          19900,
          35748,
          65500,
          96000,
          90000,
          28000,
          50000,
          70000,
          44000,
          75000,
          37000,
          65000,
          44000,
          90089,
          20000,
          45000,
          43000,
          75000,
          37000,
          65000,
          39700,
          41000,
          49562,
          28000,
          16000,
          25000,
          20000,
          32500,
          43000,
          25000,
          37000,
          45000,
          22000,
          30043,
          15000,
          42000,
          41123,
          48000,
          19000,
          19000,
          15000,
          25000,
          47379,
          32093,
          22500,
          25000,
          25000,
          44172,
          42000,
          49562,
          11000,
          23000,
          36000,
          33000,
          68000,
          95000,
          71483,
          69659,
          67433,
          38318,
          39586,
          37315,
          35288,
          40750,
          66695,
          37326,
          25050,
          67547,
          31278,
          37091,
          35221,
          42132,
          21262,
          35130,
          23127,
          22651,
          30667,
          71712,
          41424,
          34771,
          28125,
          7938,
          26533,
          35258,
          9624,
          71666,
          32569,
          40841,
          37927,
          33431,
          42373,
          17396,
          71615,
          67579,
          78200,
          77100,
          62000,
          53700,
          54254,
          41300,
          58000,
          39400,
          68348,
          67800,
          67385,
          59863,
          44955,
          56548,
          53300,
          70100,
          28300,
          25900,
          56000,
          17400,
          36200,
          60200,
          25300,
          13400,
          53700,
          70100,
          53300,
          31700,
          28300,
          62000,
          55100,
          23800,
          53000,
          32700,
          81100,
          17000,
          27000,
          62000,
          107412,
          104403,
          102444,
          51261,
          54233,
          26851,
          26085,
          23357,
          108192,
          9890,
          12299,
          49292,
          17875,
          50804,
          18163,
          89979,
          103058,
          66843,
          12710,
          9624,
          56818,
          29968,
          95261,
          13537,
          92205,
          52897,
          13433,
          12942,
          50560,
          13765,
          20654,
          107160,
          96924,
          87696,
          94493,
          38273,
          40248,
          90584,
          26844,
          40007,
          98270,
          24129,
          42187,
          16027,
          61112,
          32127,
          58479,
          17829,
          46587,
          27793,
          25438,
          92570,
          32028,
          45662,
          51387,
          13792,
          42738,
          69237,
          27199,
          29886,
          47308,
          23006,
          36127,
          87148,
          68679,
          66697,
          76594,
          5890,
          17268,
          17736,
          11690,
          63324,
          5700,
          10648,
          59828,
          7167,
          67224,
          9973,
          7945,
          18715,
          11875,
          8040,
          7442,
          64922,
          66057,
          14903,
          9794,
          8829,
          65440,
          7938,
          12700,
          9622,
          65006,
          7908,
          10484,
          7134,
          49737,
          32483,
          49471,
          27100,
          11800,
          20055,
          25923,
          31900,
          6196,
          2823,
          23182,
          30287,
          13103,
          21990,
          16418,
          15872,
          50928,
          13300,
          13554,
          38850,
          21239,
          25000,
          14174,
          12217,
          11665,
          40895,
          15150,
          34107,
          10647,
          15343,
          9591,
          17788,
          49348,
          16518,
          31156,
          62500,
          32000,
          45000,
          58000,
          17000,
          40000,
          28000,
          35000,
          17000,
          30000,
          56000,
          4000,
          24000,
          43500,
          34000,
          24637,
          26000,
          19000,
          43000,
          13000,
          28000,
          14000,
          20500,
          16000,
          13470,
          25000,
          11227,
          173850,
          152772,
          7987,
          138886,
          44802,
          8501,
          25811,
          5284,
          74462,
          3580,
          142429,
          19790,
          10151,
          7903,
          42032,
          11078,
          36502,
          29703,
          9511,
          7336,
          81649,
          12000,
          45000,
          20000,
          33000,
          18141,
          7000,
          22021,
          15000,
          58455,
          20025,
          8000,
          19000,
          7000,
          9000,
          30454,
          13452,
          11000,
          27152,
          55000,
          7000,
          15000,
          35000,
          43000,
          23000,
          12000,
          35000,
          3000,
          9000,
          9000,
          16000,
          33000,
          14000,
          21000,
          8000,
          25000,
          68346,
          79867,
          72886,
          41459,
          70022,
          25466,
          12000,
          2000,
          42100,
          57735,
          18306,
          18306,
          9249,
          23409,
          24059,
          2549,
          18346,
          4444
         ],
         "xaxis": "x",
         "yaxis": "y"
        }
       ],
       "layout": {
        "bargap": 0.3,
        "barmode": "relative",
        "legend": {
         "tracegroupgap": 0
        },
        "template": {
         "data": {
          "bar": [
           {
            "error_x": {
             "color": "#2a3f5f"
            },
            "error_y": {
             "color": "#2a3f5f"
            },
            "marker": {
             "line": {
              "color": "#E5ECF6",
              "width": 0.5
             },
             "pattern": {
              "fillmode": "overlay",
              "size": 10,
              "solidity": 0.2
             }
            },
            "type": "bar"
           }
          ],
          "barpolar": [
           {
            "marker": {
             "line": {
              "color": "#E5ECF6",
              "width": 0.5
             },
             "pattern": {
              "fillmode": "overlay",
              "size": 10,
              "solidity": 0.2
             }
            },
            "type": "barpolar"
           }
          ],
          "carpet": [
           {
            "aaxis": {
             "endlinecolor": "#2a3f5f",
             "gridcolor": "white",
             "linecolor": "white",
             "minorgridcolor": "white",
             "startlinecolor": "#2a3f5f"
            },
            "baxis": {
             "endlinecolor": "#2a3f5f",
             "gridcolor": "white",
             "linecolor": "white",
             "minorgridcolor": "white",
             "startlinecolor": "#2a3f5f"
            },
            "type": "carpet"
           }
          ],
          "choropleth": [
           {
            "colorbar": {
             "outlinewidth": 0,
             "ticks": ""
            },
            "type": "choropleth"
           }
          ],
          "contour": [
           {
            "colorbar": {
             "outlinewidth": 0,
             "ticks": ""
            },
            "colorscale": [
             [
              0,
              "#0d0887"
             ],
             [
              0.1111111111111111,
              "#46039f"
             ],
             [
              0.2222222222222222,
              "#7201a8"
             ],
             [
              0.3333333333333333,
              "#9c179e"
             ],
             [
              0.4444444444444444,
              "#bd3786"
             ],
             [
              0.5555555555555556,
              "#d8576b"
             ],
             [
              0.6666666666666666,
              "#ed7953"
             ],
             [
              0.7777777777777778,
              "#fb9f3a"
             ],
             [
              0.8888888888888888,
              "#fdca26"
             ],
             [
              1,
              "#f0f921"
             ]
            ],
            "type": "contour"
           }
          ],
          "contourcarpet": [
           {
            "colorbar": {
             "outlinewidth": 0,
             "ticks": ""
            },
            "type": "contourcarpet"
           }
          ],
          "heatmap": [
           {
            "colorbar": {
             "outlinewidth": 0,
             "ticks": ""
            },
            "colorscale": [
             [
              0,
              "#0d0887"
             ],
             [
              0.1111111111111111,
              "#46039f"
             ],
             [
              0.2222222222222222,
              "#7201a8"
             ],
             [
              0.3333333333333333,
              "#9c179e"
             ],
             [
              0.4444444444444444,
              "#bd3786"
             ],
             [
              0.5555555555555556,
              "#d8576b"
             ],
             [
              0.6666666666666666,
              "#ed7953"
             ],
             [
              0.7777777777777778,
              "#fb9f3a"
             ],
             [
              0.8888888888888888,
              "#fdca26"
             ],
             [
              1,
              "#f0f921"
             ]
            ],
            "type": "heatmap"
           }
          ],
          "heatmapgl": [
           {
            "colorbar": {
             "outlinewidth": 0,
             "ticks": ""
            },
            "colorscale": [
             [
              0,
              "#0d0887"
             ],
             [
              0.1111111111111111,
              "#46039f"
             ],
             [
              0.2222222222222222,
              "#7201a8"
             ],
             [
              0.3333333333333333,
              "#9c179e"
             ],
             [
              0.4444444444444444,
              "#bd3786"
             ],
             [
              0.5555555555555556,
              "#d8576b"
             ],
             [
              0.6666666666666666,
              "#ed7953"
             ],
             [
              0.7777777777777778,
              "#fb9f3a"
             ],
             [
              0.8888888888888888,
              "#fdca26"
             ],
             [
              1,
              "#f0f921"
             ]
            ],
            "type": "heatmapgl"
           }
          ],
          "histogram": [
           {
            "marker": {
             "pattern": {
              "fillmode": "overlay",
              "size": 10,
              "solidity": 0.2
             }
            },
            "type": "histogram"
           }
          ],
          "histogram2d": [
           {
            "colorbar": {
             "outlinewidth": 0,
             "ticks": ""
            },
            "colorscale": [
             [
              0,
              "#0d0887"
             ],
             [
              0.1111111111111111,
              "#46039f"
             ],
             [
              0.2222222222222222,
              "#7201a8"
             ],
             [
              0.3333333333333333,
              "#9c179e"
             ],
             [
              0.4444444444444444,
              "#bd3786"
             ],
             [
              0.5555555555555556,
              "#d8576b"
             ],
             [
              0.6666666666666666,
              "#ed7953"
             ],
             [
              0.7777777777777778,
              "#fb9f3a"
             ],
             [
              0.8888888888888888,
              "#fdca26"
             ],
             [
              1,
              "#f0f921"
             ]
            ],
            "type": "histogram2d"
           }
          ],
          "histogram2dcontour": [
           {
            "colorbar": {
             "outlinewidth": 0,
             "ticks": ""
            },
            "colorscale": [
             [
              0,
              "#0d0887"
             ],
             [
              0.1111111111111111,
              "#46039f"
             ],
             [
              0.2222222222222222,
              "#7201a8"
             ],
             [
              0.3333333333333333,
              "#9c179e"
             ],
             [
              0.4444444444444444,
              "#bd3786"
             ],
             [
              0.5555555555555556,
              "#d8576b"
             ],
             [
              0.6666666666666666,
              "#ed7953"
             ],
             [
              0.7777777777777778,
              "#fb9f3a"
             ],
             [
              0.8888888888888888,
              "#fdca26"
             ],
             [
              1,
              "#f0f921"
             ]
            ],
            "type": "histogram2dcontour"
           }
          ],
          "mesh3d": [
           {
            "colorbar": {
             "outlinewidth": 0,
             "ticks": ""
            },
            "type": "mesh3d"
           }
          ],
          "parcoords": [
           {
            "line": {
             "colorbar": {
              "outlinewidth": 0,
              "ticks": ""
             }
            },
            "type": "parcoords"
           }
          ],
          "pie": [
           {
            "automargin": true,
            "type": "pie"
           }
          ],
          "scatter": [
           {
            "fillpattern": {
             "fillmode": "overlay",
             "size": 10,
             "solidity": 0.2
            },
            "type": "scatter"
           }
          ],
          "scatter3d": [
           {
            "line": {
             "colorbar": {
              "outlinewidth": 0,
              "ticks": ""
             }
            },
            "marker": {
             "colorbar": {
              "outlinewidth": 0,
              "ticks": ""
             }
            },
            "type": "scatter3d"
           }
          ],
          "scattercarpet": [
           {
            "marker": {
             "colorbar": {
              "outlinewidth": 0,
              "ticks": ""
             }
            },
            "type": "scattercarpet"
           }
          ],
          "scattergeo": [
           {
            "marker": {
             "colorbar": {
              "outlinewidth": 0,
              "ticks": ""
             }
            },
            "type": "scattergeo"
           }
          ],
          "scattergl": [
           {
            "marker": {
             "colorbar": {
              "outlinewidth": 0,
              "ticks": ""
             }
            },
            "type": "scattergl"
           }
          ],
          "scattermapbox": [
           {
            "marker": {
             "colorbar": {
              "outlinewidth": 0,
              "ticks": ""
             }
            },
            "type": "scattermapbox"
           }
          ],
          "scatterpolar": [
           {
            "marker": {
             "colorbar": {
              "outlinewidth": 0,
              "ticks": ""
             }
            },
            "type": "scatterpolar"
           }
          ],
          "scatterpolargl": [
           {
            "marker": {
             "colorbar": {
              "outlinewidth": 0,
              "ticks": ""
             }
            },
            "type": "scatterpolargl"
           }
          ],
          "scatterternary": [
           {
            "marker": {
             "colorbar": {
              "outlinewidth": 0,
              "ticks": ""
             }
            },
            "type": "scatterternary"
           }
          ],
          "surface": [
           {
            "colorbar": {
             "outlinewidth": 0,
             "ticks": ""
            },
            "colorscale": [
             [
              0,
              "#0d0887"
             ],
             [
              0.1111111111111111,
              "#46039f"
             ],
             [
              0.2222222222222222,
              "#7201a8"
             ],
             [
              0.3333333333333333,
              "#9c179e"
             ],
             [
              0.4444444444444444,
              "#bd3786"
             ],
             [
              0.5555555555555556,
              "#d8576b"
             ],
             [
              0.6666666666666666,
              "#ed7953"
             ],
             [
              0.7777777777777778,
              "#fb9f3a"
             ],
             [
              0.8888888888888888,
              "#fdca26"
             ],
             [
              1,
              "#f0f921"
             ]
            ],
            "type": "surface"
           }
          ],
          "table": [
           {
            "cells": {
             "fill": {
              "color": "#EBF0F8"
             },
             "line": {
              "color": "white"
             }
            },
            "header": {
             "fill": {
              "color": "#C8D4E3"
             },
             "line": {
              "color": "white"
             }
            },
            "type": "table"
           }
          ]
         },
         "layout": {
          "annotationdefaults": {
           "arrowcolor": "#2a3f5f",
           "arrowhead": 0,
           "arrowwidth": 1
          },
          "autotypenumbers": "strict",
          "coloraxis": {
           "colorbar": {
            "outlinewidth": 0,
            "ticks": ""
           }
          },
          "colorscale": {
           "diverging": [
            [
             0,
             "#8e0152"
            ],
            [
             0.1,
             "#c51b7d"
            ],
            [
             0.2,
             "#de77ae"
            ],
            [
             0.3,
             "#f1b6da"
            ],
            [
             0.4,
             "#fde0ef"
            ],
            [
             0.5,
             "#f7f7f7"
            ],
            [
             0.6,
             "#e6f5d0"
            ],
            [
             0.7,
             "#b8e186"
            ],
            [
             0.8,
             "#7fbc41"
            ],
            [
             0.9,
             "#4d9221"
            ],
            [
             1,
             "#276419"
            ]
           ],
           "sequential": [
            [
             0,
             "#0d0887"
            ],
            [
             0.1111111111111111,
             "#46039f"
            ],
            [
             0.2222222222222222,
             "#7201a8"
            ],
            [
             0.3333333333333333,
             "#9c179e"
            ],
            [
             0.4444444444444444,
             "#bd3786"
            ],
            [
             0.5555555555555556,
             "#d8576b"
            ],
            [
             0.6666666666666666,
             "#ed7953"
            ],
            [
             0.7777777777777778,
             "#fb9f3a"
            ],
            [
             0.8888888888888888,
             "#fdca26"
            ],
            [
             1,
             "#f0f921"
            ]
           ],
           "sequentialminus": [
            [
             0,
             "#0d0887"
            ],
            [
             0.1111111111111111,
             "#46039f"
            ],
            [
             0.2222222222222222,
             "#7201a8"
            ],
            [
             0.3333333333333333,
             "#9c179e"
            ],
            [
             0.4444444444444444,
             "#bd3786"
            ],
            [
             0.5555555555555556,
             "#d8576b"
            ],
            [
             0.6666666666666666,
             "#ed7953"
            ],
            [
             0.7777777777777778,
             "#fb9f3a"
            ],
            [
             0.8888888888888888,
             "#fdca26"
            ],
            [
             1,
             "#f0f921"
            ]
           ]
          },
          "colorway": [
           "#636efa",
           "#EF553B",
           "#00cc96",
           "#ab63fa",
           "#FFA15A",
           "#19d3f3",
           "#FF6692",
           "#B6E880",
           "#FF97FF",
           "#FECB52"
          ],
          "font": {
           "color": "#2a3f5f"
          },
          "geo": {
           "bgcolor": "white",
           "lakecolor": "white",
           "landcolor": "#E5ECF6",
           "showlakes": true,
           "showland": true,
           "subunitcolor": "white"
          },
          "hoverlabel": {
           "align": "left"
          },
          "hovermode": "closest",
          "mapbox": {
           "style": "light"
          },
          "paper_bgcolor": "white",
          "plot_bgcolor": "#E5ECF6",
          "polar": {
           "angularaxis": {
            "gridcolor": "white",
            "linecolor": "white",
            "ticks": ""
           },
           "bgcolor": "#E5ECF6",
           "radialaxis": {
            "gridcolor": "white",
            "linecolor": "white",
            "ticks": ""
           }
          },
          "scene": {
           "xaxis": {
            "backgroundcolor": "#E5ECF6",
            "gridcolor": "white",
            "gridwidth": 2,
            "linecolor": "white",
            "showbackground": true,
            "ticks": "",
            "zerolinecolor": "white"
           },
           "yaxis": {
            "backgroundcolor": "#E5ECF6",
            "gridcolor": "white",
            "gridwidth": 2,
            "linecolor": "white",
            "showbackground": true,
            "ticks": "",
            "zerolinecolor": "white"
           },
           "zaxis": {
            "backgroundcolor": "#E5ECF6",
            "gridcolor": "white",
            "gridwidth": 2,
            "linecolor": "white",
            "showbackground": true,
            "ticks": "",
            "zerolinecolor": "white"
           }
          },
          "shapedefaults": {
           "line": {
            "color": "#2a3f5f"
           }
          },
          "ternary": {
           "aaxis": {
            "gridcolor": "white",
            "linecolor": "white",
            "ticks": ""
           },
           "baxis": {
            "gridcolor": "white",
            "linecolor": "white",
            "ticks": ""
           },
           "bgcolor": "#E5ECF6",
           "caxis": {
            "gridcolor": "white",
            "linecolor": "white",
            "ticks": ""
           }
          },
          "title": {
           "x": 0.05
          },
          "xaxis": {
           "automargin": true,
           "gridcolor": "white",
           "linecolor": "white",
           "ticks": "",
           "title": {
            "standoff": 15
           },
           "zerolinecolor": "white",
           "zerolinewidth": 2
          },
          "yaxis": {
           "automargin": true,
           "gridcolor": "white",
           "linecolor": "white",
           "ticks": "",
           "title": {
            "standoff": 15
           },
           "zerolinecolor": "white",
           "zerolinewidth": 2
          }
         }
        },
        "title": {
         "text": "Distribuição de Público nos Jogos da Copa do Mundo"
        },
        "xaxis": {
         "anchor": "y",
         "domain": [
          0,
          1
         ],
         "title": {
          "text": "Comparecimento"
         }
        },
        "yaxis": {
         "anchor": "x",
         "domain": [
          0,
          1
         ],
         "title": {
          "text": "Frequência"
         }
        }
       }
      }
     },
     "metadata": {},
     "output_type": "display_data"
    }
   ],
   "source": [
    "#### solução com plotly\n",
    "fig = px.histogram(wc_filtered, x='comparecimento', nbins=20, title='Distribuição de Público nos Jogos da Copa do Mundo')\n",
    "fig.update_layout(\n",
    "    xaxis_title='Comparecimento',\n",
    "    yaxis_title='Frequência',\n",
    "    bargap = 0.3\n",
    ")\n",
    "fig.show()\n"
   ]
  },
  {
   "cell_type": "markdown",
   "metadata": {},
   "source": [
    "#### Q3.\n",
    "\n",
    "Apresente um gráfico de dispersão (scatter) dos atributos `gols_1` e `gols_2`. Isso representa a relação entre gols feitos e gols tomados por jogo. Há alguma relação interessante entre esses atributos?\n",
    "\n",
    "Para facilitar a visualização dos dados (já que tem muitos placares repetidos), aplique uma leve distorção aos dados para que cada ponto esteja deslocado aleatoriamente de seu valor original. Código apresentado a seguir\n",
    "```python\n",
    "gols = wc[['gols_1', 'gols_2']] * np.random.random((len(wc),2))\n",
    "```\n",
    "\n",
    "Você deve implementar essa visualização nas três bibliotecas que vimos:\n",
    "* Matplotlib\n",
    "* Seaborn\n",
    "* Plotly\n",
    "\n",
    "Garanta que o gráfico tenha pelo menos os atributos de título e rótulos de dimensão."
   ]
  },
  {
   "cell_type": "code",
   "execution_count": 5,
   "metadata": {},
   "outputs": [
    {
     "data": {
      "image/png": "[encoded data removed]",
      "text/plain": [
       "<Figure size 640x480 with 1 Axes>"
      ]
     },
     "metadata": {},
     "output_type": "display_data"
    }
   ],
   "source": [
    "#### solução com matplotlib\n",
    "\n",
    "gols = wc[['gols_1', 'gols_2']] * np.random.random((len(wc),2))\n",
    "\n",
    "plt.scatter(gols['gols_1'], gols['gols_2'])\n",
    "plt.title('Distribuição de Gols Feitos x Gols Tomados por Jogo')\n",
    "plt.xlabel('Gols Feitos')\n",
    "plt.ylabel('Gols Tomados')\n",
    "plt.grid()\n",
    "plt.show()\n"
   ]
  },
  {
   "cell_type": "code",
   "execution_count": 6,
   "metadata": {},
   "outputs": [
    {
     "data": {
      "image/png": "[encoded data removed]",
      "text/plain": [
       "<Figure size 640x480 with 1 Axes>"
      ]
     },
     "metadata": {},
     "output_type": "display_data"
    }
   ],
   "source": [
    "#### solução com seaborn\n",
    "\n",
    "sns.scatterplot(x=gols['gols_1'], y=gols['gols_2'])\n",
    "plt.title('Distribuição de Gols Feitos x Gols Tomados por Jogo')\n",
    "plt.xlabel('Gols Feitos')\n",
    "plt.ylabel('Gols Tomados')\n",
    "plt.grid(True)\n",
    "plt.show()\n"
   ]
  },
  {
   "cell_type": "code",
   "execution_count": 7,
   "metadata": {},
   "outputs": [
    {
     "data": {
      "application/vnd.plotly.v1+json": {
       "config": {
        "plotlyServerURL": "https://plot.ly"
       },
       "data": [
        {
         "hovertemplate": "gols_1=%{x}<br>gols_2=%{y}<extra></extra>",
         "legendgroup": "",
         "marker": {
          "color": "#636efa",
          "symbol": "circle"
         },
         "mode": "markers",
         "name": "",
         "showlegend": false,
         "type": "scattergl",
         "x": [
          0.7761619393089249,
          1.1813889362902006,
          0.42291363731874265,
          1.23078282374829,
          0,
          1.5470618817811466,
          0.3056317072477206,
          0.4576803637590815,
          0.9893356209231873,
          3.4848697534850355,
          0,
          0.7127387446480822,
          0.950239094680154,
          0,
          0.7672781961616172,
          2.652768589861796,
          0.41549307213958164,
          0.5931097723765384,
          1.1248459360958978,
          0,
          0,
          0.8387679155235862,
          0,
          0,
          0,
          0.801297997650081,
          3.1994803568569714,
          0.35261870818493923,
          0,
          0,
          0,
          0,
          1.1951614144518816,
          0.6566571832939277,
          0.3975204142514771,
          1.5525436768770289,
          0,
          1.733642043138306,
          0.9383214961790197,
          0.9474764643104654,
          0.19253567248083447,
          1.444939839917548,
          1.3668114878046742,
          1.6925523761369121,
          4.131049292977478,
          0.251994150482884,
          0.17141677806284283,
          0,
          0,
          0.6833952939071131,
          3.141521465579022,
          1.292885596939641,
          0.41998326900791216,
          0.3990052956746283,
          0,
          1.0132785185664472,
          0,
          0.6887892778431267,
          0.3705334109654752,
          0,
          0,
          2.138165188911609,
          0.00819772685514486,
          0.8249748879515812,
          1.0515279920288312,
          0.49281856213588726,
          0.44895622685611714,
          0.5055057453521891,
          0,
          0.23645538233597618,
          0.570226667604498,
          0,
          0.07689746390573338,
          0.508494748084021,
          0.7570338913156044,
          0.07107053324433166,
          0.02208525563771846,
          1.2567048059771968,
          2.191005838665212,
          0.810201836295828,
          1.5634464486728739,
          1.2044863079851207,
          0,
          0,
          0,
          2.9883910974061747,
          0,
          0.6174598387960792,
          0,
          0,
          0.7574997411825087,
          0,
          0.31029539655170635,
          1.5407380568280065,
          0.024438729527539338,
          1.7577029957138073,
          0.14069322307294696,
          0,
          0.8351427885877085,
          1.15962807939656,
          0,
          0.5601102527491495,
          0.852786153657701,
          0.9827906126188051,
          0,
          0,
          5.220925094400084,
          0,
          0.9016584351326304,
          0.7888136205381547,
          1.7692373585248973,
          1.6212357610537262,
          0.1622615934865228,
          0.5249433057849359,
          2.7902361394022948,
          3.1610317421311773,
          1.0593998684478323,
          0,
          1.4066915056073261,
          1.61338313970624,
          0,
          1.3474477110755252,
          0.5944231314539782,
          0,
          1.532236923931884,
          0.26956149513592187,
          1.3497297786859985,
          0,
          0.5156319764084946,
          1.6728850625843075,
          1.8567830285248346,
          0.36194079335223805,
          0,
          0.02402632413347705,
          0,
          0.853954173835002,
          0.4833099602024937,
          0,
          0,
          0.7030688681633727,
          0,
          0.6182675576897662,
          0.8697096686040526,
          0.7668155845131432,
          0,
          0.8421616968683197,
          0.44227838322602975,
          1.32129314767954,
          0.34503445563076385,
          1.2000844956612966,
          0.32358784293170073,
          0,
          0.8107005132136392,
          0.33698981207425727,
          1.5288497017857188,
          0,
          0.4833560827076493,
          0.6717356895180174,
          0.34325719103372565,
          0.8079567253269719,
          0.3046827251657237,
          0.46341330953214466,
          2.1684783296485337,
          0.7041163355124151,
          2.329583734433811,
          5.21692477852511,
          0.7125469827020936,
          0,
          1.64878299025022,
          0.9411916523578263,
          0.31617731700111673,
          1.853401642182112,
          2.61534327804746,
          1.5947042906735045,
          0.8677750891703426,
          0,
          1.0142301860097516,
          0,
          0,
          0.39766650722300945,
          1.1552694840787752,
          0.5139421051458282,
          0.9115644095346891,
          0,
          0.9365826211298928,
          1.9683860885279114,
          0,
          1.7767960359299062,
          1.9375285096279309,
          0.8343440314497604,
          0,
          0.06695153254901653,
          0.2191573338490196,
          0.28595953095486093,
          0,
          1.3028920715337748,
          0.34982352911536374,
          0.6915630834272875,
          0,
          1.8226598173367454,
          0.08058042797923948,
          0.2230506282050304,
          0,
          1.715891747482674,
          0.12315446313794354,
          2.317803723106154,
          1.597795352571255,
          1.2765656214266348,
          6.471907747855843,
          1.1932002055540585,
          0.4170651985388244,
          1.8077785660514247,
          0.5560860000490676,
          0,
          0,
          0.41518128307427404,
          0.3194725802785703,
          0.03857406954581788,
          0,
          0.8639077219137391,
          1.2136914540806918,
          0,
          0,
          0.9500485059505073,
          4.058787922959395,
          2.7443575349908063,
          0.4134976924134064,
          0.8687955329475157,
          1.1604079516080261,
          1.9150149306635327,
          0.4808809472749329,
          7.088717699435346,
          0.2711598643453478,
          0.39331041091159213,
          2.286524885756311,
          0.04144518782782736,
          4.529576652789115,
          0,
          0.820008021836594,
          0.8898206410871802,
          2.5747803616415026,
          0,
          1.2666848801523785,
          0.6243992955396505,
          0.5617174906258753,
          0.23355314745130684,
          2.952806668066368,
          0.3683669615907328,
          0,
          0.06700482882889902,
          1.3491551088563047,
          0.8510480237493301,
          0.7618728185126269,
          0.5064191024579783,
          0.600090319955753,
          1.866165672615463,
          0.988819004172469,
          2.666271852714779,
          0.7985639016604633,
          0.7690995129724574,
          1.1168142736132807,
          0,
          1.0967966744238549,
          5.07467408577572,
          0,
          0,
          1.5679335714657374,
          0,
          2.72221926122717,
          0.28796358335108385,
          1.3565388340773716,
          0.8751828485646466,
          0.3286633518387321,
          0.04235630909093069,
          0,
          0.3926403230955403,
          0.3804514575510677,
          1.2541860383857217,
          0,
          3.5472297558314136,
          1.708436216429729,
          1.0984293485172532,
          3.3995357989210797,
          5.283638766573076,
          1.120771132118977,
          0,
          1.9962666399189406,
          0.7279145022566986,
          0.44648892638060134,
          0.01594792516052357,
          0.48399755295912095,
          0.7454029013009335,
          0,
          0.6658699914920115,
          0.10695654269663268,
          0.2628933523182537,
          0,
          0,
          0,
          0.16144001832539767,
          1.384253217090933,
          2.925250866333297,
          1.6344099711012663,
          0.4281915342207626,
          1.7433887298631072,
          0.34018112738918327,
          0.3864000608705327,
          0.8469653019977597,
          1.8302088890037793,
          0.17886106424454862,
          0.09587879451138037,
          0.9409620921663844,
          0.15502223329108933,
          0.5076549105076995,
          2.170040867848736,
          0.9158829280701434,
          2.205767727297162,
          1.224909064905254,
          6.373916006170653,
          1.6056225192466007,
          0,
          0.7906923334396601,
          0.9985430456390274,
          0.1942651910862332,
          0.04147530882798234,
          1.9146958681731152,
          1.6329689425135727,
          4.995740925882829,
          1.4151952906621794,
          0,
          0,
          0,
          3.635463615822005,
          0.07940970549341397,
          1.9542442639969655,
          0,
          3.4847972827226696,
          0.15045432064688713,
          0,
          0,
          0,
          0.8882318723946503,
          0.9036370222167891,
          0,
          0,
          1.1788427398800339,
          2.4297487340779123,
          2.2544503067041317,
          1.1749710133367737,
          1.865544620162898,
          0.667802291429936,
          1.0813259654228626,
          0.6683004951863464,
          0.77984695680185,
          0.7442566714910479,
          0.197904907923649,
          0,
          2.6776924185365805,
          0.7118379160735664,
          0.5507488560718237,
          2.0303734402225198,
          1.7495146597625149,
          1.538985735097401,
          1.870966136754128,
          0.39095897312381345,
          0,
          0.9240394709751225,
          0.32107026497280855,
          0.09807138314276731,
          0,
          0.7290418488086274,
          1.6749396861619497,
          0.41285064765657753,
          0.40390004968473725,
          0.21299629464399694,
          0,
          0.709630483161052,
          1.5857468772355783,
          0,
          0,
          2.534984270290325,
          1.7436832330743324,
          0.7971471489745987,
          1.4788561370332156,
          0,
          0,
          1.0470178160077888,
          0.9762478993961091,
          0,
          0.02653339605251359,
          0.6052029438710689,
          0.7649359638586699,
          0,
          0.5042416989893633,
          0.10213007385019046,
          0,
          0.0980158343110854,
          0,
          2.3299325790423357,
          0.4679418877917132,
          0,
          0.2156629927792486,
          4.370605237473122,
          0.44650201109328136,
          0.7750217017683672,
          0,
          0,
          1.889902935831568,
          0.7045955315171506,
          0,
          0.1619662024670675,
          0,
          3.5729109840426014,
          1.1320930260410704,
          1.4312548436665622,
          0.6110558344253855,
          0,
          0.5341919184995709,
          0,
          0.21601082286479756,
          0.7286309885848176,
          0.7095288666620531,
          1.0970561706191642,
          0.1754358673534343,
          0.8211284970172339,
          0.2644474902552375,
          2.3960789376306906,
          1.2621728071166063,
          0,
          0,
          0,
          0.033126970834025826,
          0.0021347452969100456,
          0,
          0.502812632824581,
          0,
          0,
          0,
          0.16902272515615857,
          0.778460751695561,
          0.5323753423104456,
          0.5973878906787811,
          0.9049126645874064,
          0.5038832891373702,
          3.0852240002774822,
          0.5276199690462084,
          0,
          2.53968522664729,
          0.8256447820916906,
          1.7854721177553254,
          0.7517721850717056,
          1.8694729737819704,
          0.49571160366955747,
          0.7353470795414022,
          0.506373418634787,
          0,
          0.028472716254944186,
          0.23197997953542748,
          0,
          0.5441148925202075,
          0.9700446715953399,
          0.21157685745865606,
          0.04610882757080814,
          1.7346520979592723,
          0.7212829244530643,
          0,
          0,
          0.17368649848939977,
          0.3773534463374655,
          0.7443114863428186,
          0,
          1.06814730666701,
          0,
          0,
          0.2973172442358485,
          3.9253807407347936,
          0.4351969209647981,
          0,
          0,
          0.5437303863026391,
          0.33302527563625217,
          0,
          0,
          1.7669394049073825,
          0.5928399070366156,
          1.4682242621011838,
          0.6067788314639178,
          0.6377762521113042,
          1.96885817292105,
          0.546966652632078,
          0.5404561158428125,
          0.1386433970416041,
          0,
          0.9241706594903132,
          0,
          0.6835846584149267,
          2.8315028999042173,
          1.9686688973649848,
          0,
          0,
          0,
          0,
          0.4829646193893633,
          1.1522484278139113,
          0,
          1.7073578137496876,
          0.3695393898289303,
          0.6908435699823648,
          0.18061183012639415,
          1.598122362483248,
          1.8220441939263454,
          0.30757682655369767,
          1.99863115747435,
          0.8208186299722197,
          0,
          0.9432369668257206,
          0.592942593925528,
          0.5361442066912114,
          1.442894808837806,
          0,
          0.38911094972245475,
          0,
          0,
          0.8020719219615784,
          0,
          0.8353646857271897,
          3.9867945552321,
          0,
          0.30758933727233895,
          0.5314087199645832,
          1.0427771448455792,
          1.9689516087470218,
          2.263444273686817,
          0.31681739885381843,
          0.16098212301642645,
          1.1369053499795037,
          0.0933134768862458,
          0.05619282513478885,
          1.481745430230332,
          0.29982133785542053,
          0,
          0.8656075889588057,
          0,
          0.0037844553202004416,
          0,
          0,
          0.21350182187157385,
          0.684986313927356,
          0,
          0.7446941581910874,
          1.5662768495882131,
          2.8367692942053337,
          0.4015136357129472,
          0.8954002722462362,
          1.3817187024874724,
          0.2257896640985393,
          0,
          0,
          0.23558701404850702,
          0,
          0,
          2.778774624391391,
          0.5283455283169673,
          0.8994420585143954,
          0,
          0.06787545228285485,
          0,
          1.4140695817737388,
          0,
          0.8544311868485697,
          1.958145994033802,
          0,
          6.666586609002712,
          0.8282875775166596,
          0.8915407897489191,
          0,
          0.5607267575107728,
          0.06614042926269337,
          0.2599767234055643,
          0.610563792103801,
          0.2617153825295896,
          0,
          0.5626364551235525,
          0,
          3.280142884596457,
          1.3651961494607385,
          0,
          0,
          0,
          0,
          0.13308782272015496,
          0,
          0.4911182957543061,
          0.5316306344475776,
          0.8716830769797504,
          0.43536590509601825,
          0,
          0,
          3.368888718867654,
          0.4672937296716133,
          0.5291152190781507,
          0.7304099659120308,
          0.013120243229301165,
          0,
          0.43029710648740127,
          1.874898336893673,
          0,
          0,
          0,
          0,
          0.025720994811053388,
          0.2495043532445963,
          0.07065175805072121,
          0.4068480945415073,
          0.6303913607714527,
          0,
          0.5020849418471747,
          0.88616039050939,
          1.0953360350495502,
          1.1653601500362183,
          0,
          0.5862012845009178,
          0,
          1.2617409762659404,
          1.2653663173128487,
          0,
          0.2537620336602149,
          1.4135801245943325,
          0.9672325375514212,
          0.6425896491359321,
          1.603396494250394,
          0,
          0.2123460196352488,
          0,
          0.9528238523076997,
          1.4297094766263387,
          0,
          0,
          0.18254962589746293,
          0,
          1.6946331603240439,
          0.4304154242547368,
          0.4260723082849722,
          0,
          0.29220471474083054,
          1.1650311324778406,
          1.3275649063452264,
          0,
          0.43157949645236837,
          0.33925056892083294,
          0.3136877448493911,
          3.268145246900719,
          0.5771343340108697,
          0.9526488099621437,
          0.5582716370886835,
          0,
          0.3728994166581404,
          0.7412456285393845,
          0,
          0.9560847945978763,
          0,
          1.429169440044065,
          0,
          0.901298052360957,
          0,
          0.8140782143376528,
          1.1252015211804212,
          0,
          0,
          0.7351390147513495,
          0.6300657096638922,
          0.44430921900584264,
          0,
          0,
          0.6960510283494089,
          0.9897539780710094,
          0,
          0.10585497190876136,
          0,
          1.7800776601562103,
          0.4982762415141936,
          0.4348727933922617,
          0.0386596236999146,
          0,
          0,
          0.2342773531145549,
          0,
          1.3762670052662056,
          0.7948269013100184,
          0.5101908573353994,
          0.9637448192233816,
          0.5929238511750505,
          0.19864519493266275,
          0,
          1.4806255431333635,
          0.02550555522871123,
          1.038129284453993,
          2.1945148391116174,
          0,
          0,
          0.44946959309531476,
          0.5977892583049453,
          1.5852064438171967,
          0.39091983893134197,
          0.9622874824657095,
          0.7426493735589759,
          0.8706878119250308,
          0.9145958312701992,
          3.2127930007488574,
          0.13018853511643536,
          2.2058833546938925,
          0,
          0.6639060350627947,
          0.4864513802039405,
          0,
          1.1260434072379428,
          2.7814958839002326,
          0.004496118759865553,
          0,
          1.0280472605430833,
          1.2418011330151184,
          0,
          1.8710829836313911,
          0.6402396908479557,
          0.6676421574687181,
          0.7316002171002809,
          0.7531916700665455,
          0.6592711530511843,
          0.3554506982108786,
          0.6181215567878745,
          0.9317830348164406,
          0,
          0,
          0.7917321149002525,
          1.8141318765659913,
          0.13936612344315735,
          1.4624737570551463,
          0,
          0,
          2.434069673977416,
          0,
          1.9560689322130873,
          0.7837046006425563,
          0.3275027173601299,
          0.8951911365804507,
          0.7655847231107579,
          0.272176605712368,
          2.426217908569384,
          0.11845292064237045,
          0.04675879023680485,
          0.16013919321776315,
          0,
          0.5693713347462701,
          0.033813636747732634,
          0,
          1.0684967748657483,
          0.3693088815750427,
          0.7675716739769791,
          3.123443954547948,
          0.17397428710642915,
          0.7492231771410103,
          0.7327826915051336,
          0.6250193174481209,
          0,
          0.47125504910160276,
          1.2374456346000546,
          1.5436858686072825,
          0.47424185349164816,
          0.4659692647776118,
          0,
          1.1460934452509153,
          1.4500886332043228,
          0.5064959406089359,
          0,
          0.23051429732582862,
          1.5279316865630301,
          0.5027053919143057,
          0.9657885270898087,
          0.5928217567995274,
          1.7945007951777452,
          1.0428520436793123,
          0.4580588935942568,
          0.7671580049324225,
          0.9643135290962234,
          0.8979656937414552,
          0.9693736082965076,
          0.8992923228981806,
          0.7207266015685325,
          0,
          0,
          0,
          2.1712038786516317,
          1.3002352886495885,
          0.22262850781011234,
          0.019240388963414512,
          0.5787955550214601,
          0,
          0.13877999258435425,
          0.9556313150772817,
          0,
          1.1116685390318173,
          1.7378163146756735,
          0.4462592673271333,
          0.05178536698354619,
          0.6829566207242967,
          0.85768276989993,
          1.6361935172926134,
          0.16492581029518094,
          0.6825719732500249,
          0.2998465925902296,
          0.7585930042066737,
          1.476818418102397,
          0,
          0,
          0.6152101393382385,
          0,
          0.9359791904826785,
          0,
          5.280961870574506,
          0.48749701914132704,
          0.509546855520541,
          0.8729273258878053,
          2.2248212341339366,
          0,
          0,
          0.11488904027849245,
          1.518493644545154,
          0.3143097260849439,
          1.042512090720431,
          0.7891145313768105,
          2.361499307021959,
          0.40080368723247817,
          0,
          0.3687069682288675,
          1.6584501835633771,
          2.6933678493646127,
          0.9265150761446003,
          1.322836446227411,
          1.6197659130289048,
          1.5811297265364392,
          0.6107313778598243,
          0.8428471867165576,
          0.2647553308858335,
          0.8842626390821203,
          0,
          0.6719995350245261,
          0.12740608057807212,
          1.821178462565481,
          0.7143648826209645,
          0.41208978740584423,
          0.7026871472695303,
          0.9234788529997674,
          0.20417819820554117,
          2.588245031504842,
          0,
          0.3276533195189064,
          0.8485273375788568,
          0.9708490203133158,
          0,
          0.6931272051889246,
          0,
          1.663491865037628,
          1.781387624892961,
          3.892173722172466,
          0.9350476128697981,
          0,
          0.6717424200091691,
          0.732794616130952,
          0.8183803903442166,
          0.34128348727472246,
          0.472976671681971,
          2.7421260288150284,
          1.2250700651597004,
          1.727904260264346,
          0.4369625573798549,
          0,
          0,
          0.6639621952930399,
          0.7928055333730314,
          0.7932054616742238,
          0,
          0.4041810292255519,
          0,
          4.703846733242008,
          0.025303571049632545,
          1.6231060389111507,
          0.6876545557124717,
          0,
          0.5638063534647313,
          1.5280848966645353,
          0.04109721024392865,
          0.4530833958319135,
          0.817532806803788,
          0.4320875657300175,
          2.820115789106722,
          1.6756494544767482,
          0,
          0,
          0.4862576152685283,
          0,
          1.5443239396870911,
          3.1190322148057184,
          0,
          0.5424458265101628,
          1.9754031774379028,
          0.5660463663330251,
          0.3355321635845211,
          0,
          0.3449995920175535,
          0.13322386070714753,
          0,
          0,
          2.7429829091052182,
          0.06632354227661708,
          0.5217183234504859,
          0.7426141525478335,
          0,
          1.4848100791755017,
          0,
          0,
          1.2213073607024805,
          0,
          2.2895701398609445,
          0.709313668599057,
          1.6638489825345621,
          1.6291432171188527,
          0.3824546434010021,
          0,
          0.8882986178113148,
          0.20502526116011932,
          0.21091609126560806,
          0.875682540058059,
          0.5854466728357635,
          0.3850229025651335,
          0.6976918634940203,
          1.9692859369498303,
          0,
          0.1189215997756865,
          0.6607876233178487,
          0.04926932243288973,
          0.1136569418375567,
          0.4868660931084823,
          0,
          0.26455836396385013,
          0.7140020289644838,
          0.3352113986679507,
          0.3064550661659773,
          2.192094324091251,
          0,
          0,
          0,
          0.7243957170996178,
          0.7326913428093209,
          1.3271635797482173,
          0,
          1.8871539327402012,
          2.971798120400155,
          0,
          0.6237068335273177,
          0,
          0.22282890826026347,
          1.3270706064358748,
          0.679810239699314,
          0,
          0.4726502436284712,
          0,
          0,
          1.9825055908307332,
          0.023338135485732825,
          0.053749307867955065,
          0.49214250212379407,
          0.2662380324323903,
          2.8197623523577318,
          0,
          0.5050541814649635,
          0.3254532885071668,
          0.6696907693912673,
          1.4205382934404864,
          0.720031205127672,
          0.19520699315692625,
          0,
          0.06589608391120638,
          0.8720815094657527,
          1.5662989156779545,
          1.1824294370595105,
          0.12687747669049787,
          0,
          2.927973356149405,
          0.28427060086826306,
          0.48815699809615154,
          0.3829795274528798,
          2.6478469308269594,
          0,
          0.8266335216387884,
          0,
          2.116351556899981,
          0.2527955794129114,
          0.23173322191646484,
          0,
          8.006216351651824,
          4.3534916498569105,
          0,
          1.6103031715783502,
          0,
          0.07578218866546604,
          0.2784372491509577,
          1.8201097577939243,
          2.128459135841025,
          0.2151433776131294,
          1.5447993379416236,
          0.42168255391245135,
          0.4831040142691245,
          0.11892984637531745,
          0,
          1.5896198368723924,
          0,
          1.0323629699996595,
          0.7826750025597089,
          0.3532719615345026,
          0.6152204769160052,
          2.5068576453108897,
          2.760987600567846,
          2.270547185989601,
          0.8578087594594932,
          0,
          0.3771296629512131,
          0.05225382850679128,
          0,
          0,
          0.14174135528367982,
          0.9872608427697073,
          5.773193496748202,
          0.2038826930658837,
          1.322526674000203,
          0.04640549816421802,
          1.2613245655011156,
          0.7649943488061798,
          0.27570989332232765,
          1.6714950946007203,
          2.399603400010622,
          0.2718874432853462,
          0,
          0.8862705479880985,
          0,
          0,
          1.254989842606819,
          0.9552964620009506,
          1.0340666289092626,
          0.5350885067625901,
          0.23856670912662614,
          0,
          1.2820266647918324,
          0,
          0.5959559446707052,
          0,
          0.2779877908381123,
          0.17922934547327207,
          1.4582430996357578,
          0.9484538815813068,
          2.602773328144934,
          0.7925136779282695,
          0,
          0,
          0.30572508052535374,
          0,
          0.48635099679234994,
          0,
          0.6620413736091298,
          0,
          3.5844906529589884,
          0.15242542117014002,
          0,
          0,
          0,
          2.648136232224038,
          2.653543335219506,
          0.3381764163839295,
          1.6587542891301954,
          0,
          0,
          0.04927720958589843,
          0.12125747639768192,
          2.1062232360095074,
          2.575485953880476,
          1.9709749676086292,
          3.77642493853708,
          0.9543618368640371,
          1.45526255604553,
          0.24411854642888609,
          0,
          0.40676824062148154,
          0.3459538721974914,
          0.7366513936441972,
          1.9563160992664939,
          0.43086788254997443,
          1.7287181605889155,
          2.3238434529979615,
          0.19483900941087973,
          2.640652701224919,
          0.795419468356908,
          0.1975814063206498,
          0,
          3.0648441595169995,
          0.8344970293921063,
          0.5383909916977911,
          2.3319294027526487,
          0.6030821937945824,
          0.7030956264276882,
          0.6751199374586532,
          1.1148568955483733,
          0.4020860622689013,
          0,
          0.1888472179992995,
          0.2805746235021822,
          0.8925879882343224,
          1.9659222215039684,
          0.4291920429289925,
          0.0806626436151947,
          1.8889987191184898,
          3.879919451832744,
          1.2756663139024007,
          0.675782680542047,
          0.6290895570594557,
          0.006020467065571022,
          0,
          1.7233198457106762,
          2.9310518538174986,
          0.34152553004857156,
          0,
          0.538314558734318,
          1.5991176181294418,
          1.7620345048381008,
          1.834817095855741,
          0.929284568706912,
          2.2735404228710547,
          0.25093299213669007,
          0.05473974093919276,
          0.6291295835440924,
          1.50382172332658,
          0.7566975211200496,
          0.5458197619992835,
          2.059670585051991,
          2.98490285712331,
          0,
          0.5864032359455136,
          0.2809543598436942,
          2.9651994483613784,
          1.1857109284779006,
          0.18330917242190248,
          1.7064499829235045,
          0.9654091774658149,
          0.6716240766317104,
          0,
          2.929303226702617,
          0.7733057810352456,
          1.008921250843346,
          0.1168433970482774,
          1.1472553178742437,
          0,
          0.6246594847118114,
          0.10432122837721303,
          3.427059356933824,
          4.915855981060899,
          1.865044132219852,
          1.640797606323676,
          0,
          2.6652799990917853,
          1.0987340972437636,
          0,
          1.6387400085747952,
          0.8354806791375606,
          0.24379090220303556,
          1.411472829025203,
          0.4460638547427418,
          0.358142687719764,
          0.6895117428188161,
          2.3352307697222856,
          3.6013946433188457,
          0.16751212341626476,
          3.300445004035455,
          0.5530659492512133,
          0.9590605620265839,
          0.659914668418566,
          1.0768321437951016,
          1.6212262481608284,
          0.8616912688043654,
          0.6841879284476706,
          0,
          1.40300236805418,
          0.026182417115165446,
          5.420846645083868,
          0.39365271399520085,
          0.6594628228012975,
          1.7540670190968837,
          1.1696796755511496,
          1.6524410265525882,
          1.6976587390500093,
          0.7851501664481306,
          1.6892011825685649,
          1.1579492957602002,
          2.231110962919149,
          0,
          0.9570471854571355,
          0.12798544336919415,
          0.9118214861807793,
          0.11545415268957149,
          0.48576538210111675,
          1.8440989589987637,
          1.4343629573199255,
          3.414935474710478,
          0.7220042345604849,
          0.8768403691105254,
          1.8048511603952955,
          3.1887391261096036,
          1.875039959726986,
          0.9482262877209306,
          1.1181266312782538,
          0.7266718323627415,
          0.3120917634265269,
          3.9815323756298726,
          0.07359779018911627,
          1.849053475349418,
          5.6225596000968645,
          0.672993816115182,
          0,
          6.333329415221237,
          0.21963364307879885,
          2.0139269160399893,
          2.5737704294435746,
          1.016025333333093,
          6.9727301055232385,
          0.2826562965079118,
          3.786795659930039,
          0.5451210621857396,
          0.42171856035926214,
          3.1152568268359007,
          0.13713818134575406,
          1.910265243961296,
          1.2216197920986003,
          3.637005864699253,
          2.481970469541542,
          3.7154888026991726,
          1.5927208953557586,
          3.0842838418871428,
          0.9735707935529587,
          6.338305586526134,
          0.010651832423585694,
          1.9250246462093485,
          0.793729686021512,
          1.7062354659474679,
          0.9210354295824387,
          0.23030847804723775,
          0.03582649932258075,
          3.749015530610765,
          2.837070362996122,
          1.2807966652211982,
          0.8988297315752187,
          0.27987573984476644,
          3.8693775366708105,
          1.6169518170582444,
          0.7798680291155975,
          1.2688493780787797,
          0.37066933287221526,
          1.4849478605719104,
          4.941069868963016,
          0.3331545582202088,
          1.4814081313400953,
          0.2635275200728182,
          2.23573240262702,
          1.0569998054998362,
          1.1642767085559205,
          1.43145800443583,
          3.99485588653043,
          2.3105033652180005,
          1.628514035856417,
          1.382989717564524,
          0.07065550404176246,
          1.9192936966159748,
          2.605790001177983,
          0.969238725814007,
          0.8839516411657639,
          0.31619006060297883,
          1.4821032333901882,
          1.0303353343645991,
          0.10777584375601124,
          0.16892736545698117,
          1.6177075285043798,
          2.9424812161867697,
          2.90308939767656,
          1.4427882117769146,
          0.24405734317331018,
          1.869122186720892,
          4.125582701781487,
          6.474945309238148,
          0.8237705136001794,
          2.8315611772878393,
          4.024756287185834,
          2.4228784014796325,
          0.897355576322953,
          1.1933648151077811,
          0.6089017048424393,
          0.30521089509424504,
          1.343683501261166,
          0.7787838270433062,
          2.298702407810662,
          1.4503631705768232,
          0.6594285359662926,
          0.7469808397510684,
          0.8830890516625975,
          0.4803828180625096,
          0.34840830958307023,
          0.439759892546407
         ],
         "xaxis": "x",
         "y": [
          0,
          0,
          0.5979707643033388,
          0.2068816209962655,
          0,
          0.436584522023733,
          0.12002414947858397,
          1.225785359117135,
          0,
          0,
          0,
          0,
          0,
          0,
          4.824457872457693,
          0.5346071781704137,
          0,
          0.2596363961152883,
          0.9920687167601079,
          1.1424781542188633,
          0,
          5.145348803058317,
          2.582190082198794,
          0,
          1.5136763107990585,
          1.187659188830829,
          0,
          2.4958418025736293,
          0,
          3.762210673243956,
          0.5786608816372661,
          0,
          0,
          0.995192584363235,
          0,
          0.34917347762288353,
          0.4458917859607553,
          0.6271933376205578,
          0,
          0,
          0.3764222640449616,
          0,
          1.7819012124964582,
          0,
          0,
          0.35618852971926884,
          0,
          0.5349337759338995,
          0,
          0,
          0,
          0,
          0.368659580419863,
          0,
          0,
          0,
          1.8654924038228704,
          0,
          0,
          0,
          0.441106266350733,
          0,
          0,
          0,
          0,
          0.9020447651293402,
          0,
          0.4497235700487032,
          0.8563629245590045,
          0.7967411471849033,
          1.7612887475764494,
          0.5669791503843845,
          0,
          0.2922987385175245,
          1.048260265079319,
          0,
          0,
          0.023470184404732253,
          0,
          0.7177040597545772,
          0.1435476689707783,
          0.6770221674112112,
          0.6073639076573394,
          0.9749576028486819,
          1.3694264133282439,
          1.999617985606346,
          0.8454536361219134,
          1.326199485399325,
          2.1986567130535923,
          0,
          1.548603134091541,
          0.5953534268919862,
          0.21316223454748306,
          0,
          0.3036354239748741,
          0,
          0.6163568829139168,
          3.32832319445544,
          0,
          0.7522556150892894,
          0.2775179788231865,
          0,
          0,
          0.4575475615221043,
          0.006576286328624836,
          0.9171089141676176,
          0,
          0,
          0,
          1.9996435387624545,
          0,
          0.2690311857840513,
          0,
          0.5897947604281719,
          0,
          0,
          1.034566210089634,
          0.555833364984286,
          0.7091225271631296,
          0,
          0.9524873987464973,
          0.25076547499512614,
          0.021845342258633438,
          0.16524977077908876,
          0.4994264684075852,
          1.1313992336841792,
          0,
          0.8599093945714997,
          0,
          0,
          0.8708898267811708,
          0,
          0.47019221344976425,
          0.6037122978472564,
          2.9978001113538455,
          0.9903719127514149,
          0.4699268634161802,
          0.21893266563204383,
          0.17268844676457085,
          0.7516609374324755,
          1.3457167848055689,
          0.8780277892377601,
          1.7473129953882436,
          0.9079788799700244,
          0.9941016903852349,
          0,
          0.7901720058904853,
          1.3069798673986281,
          0,
          0.6124465956143644,
          0.16430941637378405,
          0,
          0,
          0.9235849747050874,
          2.588489188256764,
          0,
          0,
          0.1779671584332131,
          0.17537246690934594,
          0,
          2.929150579637838,
          0,
          0.7568213755572681,
          0,
          0,
          0,
          0,
          0.9040367551803526,
          0.7278182621139326,
          0.024361516127679117,
          2.0338140081380773,
          0.0982202461817473,
          0.46840578512973574,
          0.9933420991386368,
          0.6195422014906462,
          0.06810000575639563,
          0.38141646857703493,
          2.4524245197121743,
          0,
          0.03529365672164908,
          0,
          0.28370950216727153,
          2.8372877751251537,
          0.3875245760160606,
          1.3484916698279437,
          0,
          0.048723580285782164,
          0,
          0,
          1.8436660211705809,
          0.37169677331813267,
          0,
          0,
          0,
          0.8306687331179929,
          0,
          0.28260999981855073,
          0.40598742351837735,
          0.6890626567756812,
          0.9966267957609615,
          1.995259630934855,
          0,
          0.15264289453838487,
          0,
          0,
          1.2906228510299445,
          0,
          0,
          0.9153930585534387,
          0.289755354263294,
          0,
          0,
          0.8769482586983854,
          0.6684814611505469,
          0.42106326499799596,
          1.7644146652026125,
          0,
          0,
          3.621306433415905,
          0.6661845867835499,
          0,
          0.9426242869190544,
          0,
          0,
          0,
          0.7101465013690074,
          0.45837226279741217,
          1.5128159560860697,
          1.2352678928956282,
          0.7793265063972823,
          0.45481270158826304,
          0,
          0.28411814389144385,
          0.6000744732979998,
          0,
          1.3215035415124534,
          0,
          0.18278328458854864,
          0.25376314675989153,
          0,
          0,
          1.2360736396151248,
          0.806140423102887,
          0,
          0.5524851177064736,
          5.150906535729408,
          0.8361733466135585,
          1.0941512812557839,
          2.2059944362923427,
          0,
          0,
          0.02605217516894731,
          1.8277149558367003,
          0,
          0,
          0,
          0.4819389574822761,
          0,
          0.9098587838474359,
          0,
          0,
          0.6102455579049723,
          0.49016908681994564,
          0,
          0,
          0,
          0,
          0.8683067817446326,
          0.27308982038136187,
          0.6792363319390601,
          0,
          0.6839159583051699,
          1.560549487833066,
          0,
          1.2464559452334798,
          0,
          1.418793069269738,
          0.6517265644752354,
          1.8350884624761523,
          0,
          0,
          0.9930644660702135,
          0.5504377069765308,
          0,
          0.28483777381637654,
          1.1704657931327034,
          0,
          0.820217722744332,
          0.5869513406739175,
          1.1448618387558807,
          0.5107114686352758,
          1.9755881292272284,
          1.5096894935418823,
          0.7845378293970511,
          0.18289042501029118,
          0.29684732044309414,
          0.6979433352110163,
          1.5207600765497553,
          0.7420427134345665,
          0,
          0,
          0.3674875674063295,
          0,
          0.3798106614604919,
          0,
          2.3582137681020914,
          0.2748595376260543,
          0.9172090329263528,
          0,
          2.760143417573169,
          0,
          0,
          1.8768416874933005,
          1.9098025968303716,
          1.1835571581305673,
          0.047702642446002974,
          0.029505451646371084,
          1.5828870165646438,
          0,
          0,
          0.660350307598496,
          0,
          0.3455922733396879,
          0,
          0.15172683114633356,
          1.8109433776351085,
          0.3476922956106342,
          0,
          1.5126785247622214,
          0.04610217045283571,
          1.1556062475122182,
          1.3378462670648004,
          0.15413122319363604,
          0,
          0.11213122538199649,
          1.4285480322784758,
          0,
          0,
          1.9597338364041814,
          2.5346193919451765,
          7.308482006269168,
          1.079747510598045,
          0,
          0.031158702148941564,
          2.8843240535800403,
          1.7476846545750353,
          0,
          0,
          2.971568600324908,
          0.8357446149634313,
          0,
          0,
          0,
          1.2907799758717053,
          0.9096479664649239,
          0.5138359035428786,
          0,
          0.6823279941375314,
          0.05444857276356385,
          0.05772854211449907,
          0.637909365108206,
          0,
          0.6476511427396076,
          0.5579696134845386,
          0.3458806377917508,
          0.6192230444600011,
          0,
          1.5431026738513474,
          1.4427905687990061,
          0,
          3.5251948714098615,
          0.02746665496017653,
          0,
          0,
          1.2521251471476098,
          0.3536833273748372,
          0.409317646834656,
          0,
          0.8662908789641278,
          2.0338284391806924,
          2.3863832411088426,
          2.8647132815726835,
          0,
          0,
          0.4613896449435464,
          0.4206840430480403,
          0.02889285155521837,
          0.04246591612447703,
          0.10742821010602799,
          0,
          0.5249023009579884,
          0,
          0.9251349716705162,
          1.9927181935509046,
          0.13743007368661908,
          0,
          0,
          0,
          0.2821212433194342,
          0,
          0,
          0.45076483387999544,
          0,
          0,
          1.110993748881371,
          0,
          0,
          0.7833664625242195,
          0.04113232946336964,
          1.0036951278404658,
          0.2581646209909725,
          0.2067548199011331,
          1.1722227142044326,
          0,
          0.0034164055782072156,
          0,
          1.5056989018636107,
          0.5579873443460257,
          0.7055878621732201,
          0.7361076416501273,
          0,
          0.5983577533361689,
          0,
          1.0012524222250787,
          0.2974133701741193,
          0.947321885459624,
          1.1575574849344719,
          0.23428087513448326,
          0.7069420050671552,
          0.3468941717227195,
          0.7513269800607529,
          1.9069820263317128,
          0,
          0.5001024890870494,
          0.61223629689878,
          0.10134356595746641,
          0.06383409176327381,
          0,
          1.8188335723117868,
          1.3781648579721835,
          0.9563212566927454,
          0,
          0.07857179937600867,
          0.9796488277708627,
          0.3836235666635547,
          0.5833794741285296,
          0.7469802651737185,
          0.057826308021774686,
          0.7673426287275522,
          0.3465687453994778,
          0,
          0,
          1.5617237673101285,
          0.6586064829248056,
          0,
          0.9091830017613535,
          0,
          0,
          0.615463885379628,
          1.4730959639897165,
          1.8850287505225565,
          0.3717785765785703,
          0,
          0,
          0.5454342732509032,
          0.9609971030807217,
          0.8859715397006572,
          0.8090527429567284,
          0.2752160438867285,
          0.9450844034726226,
          0.6304839489322017,
          0,
          0.1454063210565124,
          0.6436229687482334,
          1.238269399811454,
          0,
          0,
          2.160714694500504,
          0,
          0.29890395516035817,
          0,
          0,
          0.4076557830232679,
          0.8305897275947818,
          0,
          0.2023342089022776,
          0,
          0.27693793252125,
          0.10518121132193203,
          0.09954406906436675,
          0.7743257364146936,
          0,
          0.49082702842822035,
          0.12024277744779055,
          0.6661305889665364,
          0.1609016386603801,
          0.6057154847565152,
          1.8259312500244937,
          0.04590320064134257,
          0,
          0,
          0.4447588992626863,
          2.710707294546375,
          0.21721543969791612,
          2.019547438403243,
          0,
          1.1083490979291029,
          0.5320839390193517,
          0,
          3.6641412293683095,
          0.4106040428921178,
          0,
          1.1511339360279127,
          0,
          0.5706866158967503,
          3.6667728317415635,
          1.6865850921516146,
          0.7550369903588949,
          0.20764796081516512,
          0,
          0.8901478546254232,
          0.06969439252740028,
          3.779520599825345,
          0.8809216914913943,
          0,
          0.30495167761207254,
          0,
          0,
          1.9243951692188541,
          0.015934020194221632,
          0,
          0.7581238905344294,
          0,
          2.4844568206873325,
          1.6909175874733142,
          0.016986467214961443,
          0,
          2.312074911141,
          0.8046940015590556,
          0.048770463304908085,
          0.696123548018152,
          0.5862352185536251,
          0.23241452147716246,
          0.8950516848292615,
          1.2592412649961218,
          0.6605756205653988,
          0.44128350718545517,
          0.6323521797154972,
          0,
          0,
          0.6827067075010838,
          0,
          0.9881670250628366,
          0.4761663625586451,
          0.14675247845781603,
          1.6914208698495483,
          0,
          0.5915632188971753,
          0.008890236986568878,
          0,
          0,
          0.5853398956442248,
          2.575029327002504,
          0.6590592630984862,
          0.3203728253376287,
          0,
          0.4095890201596596,
          0.24685720496854624,
          0.2463670344468345,
          1.1533489626398201,
          0.20941569088883183,
          1.6593286885709457,
          0,
          0,
          0,
          0.7085075897872102,
          0.7380052273280673,
          0.278653646234837,
          0,
          0.32536585589299216,
          1.4201866447076201,
          0.5327821097064673,
          1.4138953933388518,
          0,
          0.3820203104768163,
          0.33110804667770377,
          0.6028640043708946,
          0.9131630325400799,
          0.5867589829706132,
          0.4947614947981821,
          0.52699786690441,
          0,
          0.19202693330792187,
          0,
          0,
          0.6268413683200852,
          0.1409235450615337,
          0.8354783422676616,
          0,
          0,
          0,
          0.22339976814423057,
          0.7333830409493989,
          0,
          0.2896855514251,
          0.693717581791202,
          0.8684793076074083,
          1.8582822737412774,
          0,
          0.18334885865151374,
          0.7270859967212441,
          0,
          0,
          1.6625707076751914,
          0,
          0,
          0,
          0,
          0,
          0.6970372311080529,
          0.31595270776254114,
          0,
          1.5254307251272954,
          0,
          0.03564829620701093,
          1.373272716965753,
          1.1395426785631289,
          0.6126272614207011,
          0.11963658789108322,
          0.25557558389676005,
          1.374776674407141,
          0,
          0.6176954388705078,
          0.09823105106923435,
          0,
          0.7791992481716448,
          0.4748340145552803,
          1.3541994275035187,
          0.0030478116570091807,
          0,
          0,
          0.12863882250328074,
          0,
          0.08612284697113659,
          0.14440764149547702,
          0,
          0.015748182181956616,
          0,
          0,
          0,
          0,
          0,
          0.8418212973988273,
          0,
          0.7652864553330592,
          0,
          0,
          0.336721098634426,
          2.4505938322461427,
          0,
          0.22324707732061222,
          0.7930601856597445,
          0.08432500910170371,
          0,
          0,
          0.8599848499880343,
          1.3082657958612824,
          0.2006486628385502,
          0.9218964974821271,
          2.096911377889226,
          0,
          0,
          0,
          0.45692446659857455,
          0.17454657916930416,
          0,
          0.03403376702533201,
          0.22474443993838222,
          0.03404619955144028,
          0,
          1.550835480927228,
          0.8558646342769185,
          0,
          2.284135450705928,
          0.3319022338844462,
          1.1163409725470783,
          0.631271349221241,
          0.1348353863823626,
          4.741796550813579,
          0,
          0.06879010910423822,
          0,
          0.8817707884767301,
          0,
          2.3121082777420536,
          2.755101128089658,
          0,
          2.6602973951993194,
          0.8795826379073048,
          1.306573371827399,
          0.1970679320425307,
          0.3644028088436104,
          0,
          0.31120906022417105,
          0.0488562882686252,
          0,
          0,
          1.7197787209971243,
          0,
          0.2855525458576136,
          0.164344130672068,
          0.23672769555675788,
          0.6808487009480358,
          0,
          0,
          0,
          1.8050119559692335,
          0.2144029601768458,
          1.4129122806751622,
          1.9438412326401264,
          0,
          0.056428207442052014,
          0.5958732520755764,
          0,
          0,
          1.3461385421142515,
          0.4538976677272093,
          0.8685958363044304,
          0.05451940572688052,
          1.270236379985164,
          0,
          0.021944330169661352,
          2.649843280347818,
          1.1264004915403618,
          0.6568082227990676,
          0.09279563764027998,
          0.5758175701663536,
          0.8271072511692519,
          0,
          0.2484922384377679,
          0.38392997664293416,
          1.1605709353932556,
          0.21289685277470616,
          0.21594996860278903,
          0,
          3.8000791684462643,
          0,
          0.2433288500344325,
          0,
          0.3147037022910242,
          0.08864734744431735,
          0.9859002422448615,
          0.3401678840086504,
          0.7096784849718605,
          0.028712213148999077,
          0,
          0.8772795526128434,
          0.9437004615603998,
          0.36974573306478986,
          1.3544200992609576,
          0.26577770636955345,
          0.9783870364586617,
          1.072045995500536,
          0.27969291996099976,
          0,
          0.9089907521569401,
          0.9180779918622113,
          0,
          1.2947750146541097,
          0.5460470406801118,
          1.39924568373628,
          0,
          0,
          0,
          0.5413907611349806,
          0,
          0.4296239593021758,
          0,
          0.06332039851442206,
          0,
          0,
          0,
          0,
          0,
          0,
          0.6087062846006928,
          2.474539162489324,
          1.2488302626693808,
          0,
          0,
          0.062194837096692046,
          0,
          1.0877094470707167,
          0.04237625865874106,
          0.3950170542678564,
          0.27137005856881413,
          0,
          0,
          1.6694733382109965,
          0.09281868772668866,
          0.0028840461373861315,
          1.8127631582772419,
          0.6564019599000375,
          1.476123155280606,
          1.6215322575963957,
          0.615346470678572,
          0,
          0,
          2.5164255085219738,
          0.17343686293142313,
          1.1219120229564843,
          0,
          1.95099908023177,
          0.2717753029329011,
          1.5891355132823328,
          0.38012836086359625,
          0.8632723385896766,
          0,
          0.6911894459157619,
          0.5112967061219091,
          0.8055145277336881,
          0.5232646473086127,
          0,
          0.5678151155885884,
          1.731564122714538,
          0,
          0.5810971807373178,
          0.7994218992974277,
          0.01426383435996903,
          0,
          0.8617734648613835,
          0,
          0,
          0.5938116760772765,
          0.5524696142172597,
          0,
          0.0524648588807779,
          0,
          0,
          0.2892313173555622,
          0,
          0,
          0.11055535344526679,
          0.4814433946578248,
          0.5006705303432777,
          0.8556820141397725,
          0,
          0.07210562510747609,
          0,
          0.6149765092964437,
          0.9384159876913285,
          0.6047602526699923,
          0,
          0.8721723955212557,
          0,
          0,
          0.6180523444525527,
          0,
          0,
          0,
          0.43766443810085176,
          0.5216633317627085,
          0.39546047996124,
          0.9700820978409752,
          1.0879021332109007,
          0.787416448843266,
          0.3882193261403789,
          0,
          1.5799005820108452,
          0,
          0.20680424187737945,
          0.3464564456092506,
          0.14656496146848064,
          0,
          0.8958820264857776,
          0.6898476507564268,
          0,
          0.8449391652519833,
          0.8492875135533381,
          0,
          0,
          0.637669175936832,
          0.5074724320715611,
          0.4429711361523624,
          0,
          0.42872285225458084,
          0,
          0,
          0,
          0,
          0.9149772800895909,
          0,
          0.6538311103313827,
          1.9916996801513203,
          0.8986386575017223,
          0.10169637694257716,
          1.4338280910230132,
          0.27924802321958464,
          0,
          0.811730165879283,
          0.30640044666872,
          0.24563683151775306,
          0.5539134024885923,
          0,
          0.6879604948543931,
          0.21553844467773853,
          0.9667057532212248,
          0,
          0,
          1.3762736584753077,
          0.07403818496280512,
          0.6166001353491147,
          0,
          0,
          0,
          0.5050332374977313,
          0,
          0,
          1.6796828708322744,
          1.050405622219543,
          1.2218663544716581,
          0.740062570717166,
          0,
          2.398353419783824,
          0,
          1.2437603395987127,
          0,
          0.44435808865214277,
          0.2050031429796867,
          1.768942869847093,
          0.5474555600442683,
          0.8169817582795175,
          0.9905581148097837,
          0,
          0,
          0,
          0,
          0.6137155706654656,
          0.1401832298439083,
          0.23141866719169335,
          0,
          0.5944010191549358,
          0.6666940124866136,
          0.5258194623451902,
          0.4376747466352473,
          0,
          0,
          0.00965974699593275,
          0,
          0.9620769007778657,
          0.8520661404609646,
          0.5046012464594969,
          0.8130471128566659,
          1.8845528056407839,
          0.31367173089732314,
          0.23791772785359155,
          1.5975587506318476,
          0,
          0.9335906574023215,
          0,
          0.537722487663155,
          0.9600097108532474,
          0.40005630141591686,
          0.07621770113133786,
          0.36362164361469806,
          0,
          0.8269218955337475,
          0,
          0,
          0,
          0,
          0.602459040949893,
          1.7860612038171186,
          0.8908305850161564,
          0.13469285508622697,
          0,
          0,
          0.5714545948288315,
          0.21589068468898343,
          0.4618077215666938,
          1.309027664994822,
          0.21217172509540383,
          0.4817398389775991,
          0.9579052551672838,
          0,
          0.39557850518203275,
          0,
          0,
          0,
          0.8210445345745802,
          0.9930988855205884,
          0.2802681747835216,
          0.5211665647561476,
          0.8807660113057785,
          0,
          0.8357901264484047,
          0.5801548520815254,
          0.10717321458235152,
          0,
          0.4392200674120843,
          1.7693420489969909,
          0,
          0.20649136117864697,
          0.39470054928261655,
          0.6208458759862986,
          0.1646108808752499,
          0.9669202906627147,
          0.7100287168694979,
          0.7816291637496621,
          0,
          0,
          1.5851010791584295,
          0,
          0,
          0.7250916277671168,
          0,
          0,
          0,
          0,
          0,
          0.1807340769222736,
          1.3002930580529948,
          0.5777311676028698,
          0.05333871179973837,
          0,
          0,
          0,
          0,
          0,
          0.22367496772025575,
          0.41995526580822107,
          0,
          0,
          0.1400724276123101,
          0.7837919361223236,
          0.6434747491516252,
          0.3207577031368828,
          0,
          0.1472938898255839,
          0.31426142339399676,
          0.33724074416382144,
          0,
          0.8050858452681269,
          0.3669360616238204,
          0.549577484349213,
          0,
          0.43551259127417175,
          0.3441585467141234,
          0.8001116790506726,
          0.736194159527815,
          0.47646841283590113,
          0.4193756208575521,
          0.7316354824385067,
          0,
          0.3853146861609157,
          0,
          3.990766684099488,
          0.39814735609324325,
          0,
          0.7007606569795142,
          0.1917182074356144,
          0,
          1.1506484434965816,
          0,
          4.552759244363527,
          0.874948201633445,
          0,
          0.8612776725116749,
          0.014331125642070841,
          0,
          0.3504517674093667,
          0,
          0.19005425452550617,
          0,
          0.6985285817644424,
          0.7909962598670501,
          0,
          0,
          0.6449465316736003,
          0,
          0.3163456142531751,
          0,
          1.1732586504605342,
          0.3676600148476512,
          1.2165084847422323,
          0.8845028832982936,
          0,
          1.5394408001228934,
          0,
          0,
          0.3243799143868985,
          0,
          0.5637380745728663,
          1.4477873562994596,
          0,
          0,
          0,
          0,
          1.948970016553522,
          0.15861032044732826,
          0.815454569739013,
          0,
          0.7935155182014176,
          0,
          0,
          0.45706944388515325,
          0,
          0.7398769242554317,
          0,
          1.6303424238542343,
          0,
          0,
          0.788470999181746,
          0.21556802892992732,
          0.6437568822298327,
          0.19384412885059943,
          1.0476686218758378,
          0,
          0.43169991680872777,
          0,
          0,
          0.09441064057008186,
          0.03022369332990571,
          0.8221012851129791,
          0,
          0,
          0.8683152201957425,
          0,
          0,
          0,
          0,
          0,
          0.6107759991055571,
          0.49759263231115647,
          0.7598583143117402,
          0.23939262319016008,
          0.2002876612349408,
          0.5819137255249361,
          0,
          0.5937992801256731,
          0,
          0,
          0,
          0,
          0.2472408380017972,
          0,
          1.9433239980955659,
          0.8704927377981261,
          0.5709706784666705,
          0.19441245672615692,
          0,
          0,
          0,
          0.19040859829316137,
          0,
          0,
          0,
          0.15634485275505416,
          0,
          0.7944712980341744,
          0,
          2.10607198574019,
          0.4981336240046277,
          0.14979394661954393,
          0,
          0,
          0.6868788973762169,
          0.3325802196281994,
          0,
          0.6427778309762179,
          0,
          0,
          0.5420723888812486,
          0.4663574973453044,
          0,
          0,
          0.8687874407758096,
          0.10121474709574274,
          0.16496987989485956,
          0.916247553610918,
          0,
          0,
          0,
          0,
          0.22348380549591074,
          0.5562934213787829,
          0,
          0,
          0.0068872609817066666,
          1.623263547760598,
          0.8293489510099237,
          1.954817057164746,
          0,
          0,
          0.2919830956354462,
          0.004054065608058988,
          0,
          1.5501557042853937,
          0.9004424457817163,
          0.34376094424151393,
          0.4504293562500612,
          0,
          0.10073857454916857,
          0,
          0,
          0.7049445085981922,
          0.7033935305544017,
          0,
          1.6857762722085485,
          2.567470687086776,
          1.6475013515071546,
          0.22283556187015452,
          0.642465363761067,
          0.5549955503131465,
          0.13114413375484513,
          0,
          1.2536306952418204,
          1.8465846207973151,
          1.3485893072139472,
          1.9187134443357172,
          0.5203559593637639,
          0.5268782516743968,
          0,
          0.933517244773159,
          0.6714855481846207,
          0,
          0.6291978150204987,
          0,
          1.3608870940539575,
          0.6021204225956732,
          0,
          0.5413173196055902,
          2.2510255118489333,
          0,
          0,
          0,
          0,
          0.5518515139259951,
          0.011069256998625598,
          0.5740574922508351,
          0.004413082220489084,
          0.6786343583401206,
          0.08869067572298972,
          0.057091684247734475,
          0,
          0,
          0,
          0.7085815516537872,
          0,
          0,
          0,
          0.4100002960080431,
          1.3041299243412274,
          0.40464154191076107,
          1.1522647795296619,
          0,
          0.5941179923737445,
          0,
          0,
          1.8274824451463805,
          0.40252120737788455,
          0.4118608749617446,
          0.31419236955933993,
          0.9490238345693399,
          0,
          0.4088180281557179,
          0,
          0.20864799434494874,
          0.7333198634509381,
          0.5532261577734996,
          0.6575919442501357,
          2.688115748124809,
          0,
          0.9533650860580629,
          0.10449247893958458,
          0,
          0.2635194245508875,
          0.5440787478160206,
          1.541492732387925,
          0.24796735202739872,
          0,
          0,
          0.5254428796861139,
          0.11264864760166349,
          0.4836838774230222,
          0.756354545799226,
          0.48704191068485303,
          1.938641422461823,
          1.0711239056842263,
          1.895663615496634,
          1.8045241852893152,
          0.5938552648669834,
          1.8386829925744061,
          0.08660255342876044,
          1.6964781884799982,
          0.8587117297530659,
          0.42164061567439937,
          0.013776604889157995,
          0,
          0,
          0,
          0,
          2.0774954825772336,
          0,
          0,
          0,
          0,
          0,
          0.30965250754490703,
          0.6779549401722916,
          0,
          0.26625982378784463
         ],
         "yaxis": "y"
        }
       ],
       "layout": {
        "legend": {
         "tracegroupgap": 0
        },
        "template": {
         "data": {
          "bar": [
           {
            "error_x": {
             "color": "#2a3f5f"
            },
            "error_y": {
             "color": "#2a3f5f"
            },
            "marker": {
             "line": {
              "color": "#E5ECF6",
              "width": 0.5
             },
             "pattern": {
              "fillmode": "overlay",
              "size": 10,
              "solidity": 0.2
             }
            },
            "type": "bar"
           }
          ],
          "barpolar": [
           {
            "marker": {
             "line": {
              "color": "#E5ECF6",
              "width": 0.5
             },
             "pattern": {
              "fillmode": "overlay",
              "size": 10,
              "solidity": 0.2
             }
            },
            "type": "barpolar"
           }
          ],
          "carpet": [
           {
            "aaxis": {
             "endlinecolor": "#2a3f5f",
             "gridcolor": "white",
             "linecolor": "white",
             "minorgridcolor": "white",
             "startlinecolor": "#2a3f5f"
            },
            "baxis": {
             "endlinecolor": "#2a3f5f",
             "gridcolor": "white",
             "linecolor": "white",
             "minorgridcolor": "white",
             "startlinecolor": "#2a3f5f"
            },
            "type": "carpet"
           }
          ],
          "choropleth": [
           {
            "colorbar": {
             "outlinewidth": 0,
             "ticks": ""
            },
            "type": "choropleth"
           }
          ],
          "contour": [
           {
            "colorbar": {
             "outlinewidth": 0,
             "ticks": ""
            },
            "colorscale": [
             [
              0,
              "#0d0887"
             ],
             [
              0.1111111111111111,
              "#46039f"
             ],
             [
              0.2222222222222222,
              "#7201a8"
             ],
             [
              0.3333333333333333,
              "#9c179e"
             ],
             [
              0.4444444444444444,
              "#bd3786"
             ],
             [
              0.5555555555555556,
              "#d8576b"
             ],
             [
              0.6666666666666666,
              "#ed7953"
             ],
             [
              0.7777777777777778,
              "#fb9f3a"
             ],
             [
              0.8888888888888888,
              "#fdca26"
             ],
             [
              1,
              "#f0f921"
             ]
            ],
            "type": "contour"
           }
          ],
          "contourcarpet": [
           {
            "colorbar": {
             "outlinewidth": 0,
             "ticks": ""
            },
            "type": "contourcarpet"
           }
          ],
          "heatmap": [
           {
            "colorbar": {
             "outlinewidth": 0,
             "ticks": ""
            },
            "colorscale": [
             [
              0,
              "#0d0887"
             ],
             [
              0.1111111111111111,
              "#46039f"
             ],
             [
              0.2222222222222222,
              "#7201a8"
             ],
             [
              0.3333333333333333,
              "#9c179e"
             ],
             [
              0.4444444444444444,
              "#bd3786"
             ],
             [
              0.5555555555555556,
              "#d8576b"
             ],
             [
              0.6666666666666666,
              "#ed7953"
             ],
             [
              0.7777777777777778,
              "#fb9f3a"
             ],
             [
              0.8888888888888888,
              "#fdca26"
             ],
             [
              1,
              "#f0f921"
             ]
            ],
            "type": "heatmap"
           }
          ],
          "heatmapgl": [
           {
            "colorbar": {
             "outlinewidth": 0,
             "ticks": ""
            },
            "colorscale": [
             [
              0,
              "#0d0887"
             ],
             [
              0.1111111111111111,
              "#46039f"
             ],
             [
              0.2222222222222222,
              "#7201a8"
             ],
             [
              0.3333333333333333,
              "#9c179e"
             ],
             [
              0.4444444444444444,
              "#bd3786"
             ],
             [
              0.5555555555555556,
              "#d8576b"
             ],
             [
              0.6666666666666666,
              "#ed7953"
             ],
             [
              0.7777777777777778,
              "#fb9f3a"
             ],
             [
              0.8888888888888888,
              "#fdca26"
             ],
             [
              1,
              "#f0f921"
             ]
            ],
            "type": "heatmapgl"
           }
          ],
          "histogram": [
           {
            "marker": {
             "pattern": {
              "fillmode": "overlay",
              "size": 10,
              "solidity": 0.2
             }
            },
            "type": "histogram"
           }
          ],
          "histogram2d": [
           {
            "colorbar": {
             "outlinewidth": 0,
             "ticks": ""
            },
            "colorscale": [
             [
              0,
              "#0d0887"
             ],
             [
              0.1111111111111111,
              "#46039f"
             ],
             [
              0.2222222222222222,
              "#7201a8"
             ],
             [
              0.3333333333333333,
              "#9c179e"
             ],
             [
              0.4444444444444444,
              "#bd3786"
             ],
             [
              0.5555555555555556,
              "#d8576b"
             ],
             [
              0.6666666666666666,
              "#ed7953"
             ],
             [
              0.7777777777777778,
              "#fb9f3a"
             ],
             [
              0.8888888888888888,
              "#fdca26"
             ],
             [
              1,
              "#f0f921"
             ]
            ],
            "type": "histogram2d"
           }
          ],
          "histogram2dcontour": [
           {
            "colorbar": {
             "outlinewidth": 0,
             "ticks": ""
            },
            "colorscale": [
             [
              0,
              "#0d0887"
             ],
             [
              0.1111111111111111,
              "#46039f"
             ],
             [
              0.2222222222222222,
              "#7201a8"
             ],
             [
              0.3333333333333333,
              "#9c179e"
             ],
             [
              0.4444444444444444,
              "#bd3786"
             ],
             [
              0.5555555555555556,
              "#d8576b"
             ],
             [
              0.6666666666666666,
              "#ed7953"
             ],
             [
              0.7777777777777778,
              "#fb9f3a"
             ],
             [
              0.8888888888888888,
              "#fdca26"
             ],
             [
              1,
              "#f0f921"
             ]
            ],
            "type": "histogram2dcontour"
           }
          ],
          "mesh3d": [
           {
            "colorbar": {
             "outlinewidth": 0,
             "ticks": ""
            },
            "type": "mesh3d"
           }
          ],
          "parcoords": [
           {
            "line": {
             "colorbar": {
              "outlinewidth": 0,
              "ticks": ""
             }
            },
            "type": "parcoords"
           }
          ],
          "pie": [
           {
            "automargin": true,
            "type": "pie"
           }
          ],
          "scatter": [
           {
            "fillpattern": {
             "fillmode": "overlay",
             "size": 10,
             "solidity": 0.2
            },
            "type": "scatter"
           }
          ],
          "scatter3d": [
           {
            "line": {
             "colorbar": {
              "outlinewidth": 0,
              "ticks": ""
             }
            },
            "marker": {
             "colorbar": {
              "outlinewidth": 0,
              "ticks": ""
             }
            },
            "type": "scatter3d"
           }
          ],
          "scattercarpet": [
           {
            "marker": {
             "colorbar": {
              "outlinewidth": 0,
              "ticks": ""
             }
            },
            "type": "scattercarpet"
           }
          ],
          "scattergeo": [
           {
            "marker": {
             "colorbar": {
              "outlinewidth": 0,
              "ticks": ""
             }
            },
            "type": "scattergeo"
           }
          ],
          "scattergl": [
           {
            "marker": {
             "colorbar": {
              "outlinewidth": 0,
              "ticks": ""
             }
            },
            "type": "scattergl"
           }
          ],
          "scattermapbox": [
           {
            "marker": {
             "colorbar": {
              "outlinewidth": 0,
              "ticks": ""
             }
            },
            "type": "scattermapbox"
           }
          ],
          "scatterpolar": [
           {
            "marker": {
             "colorbar": {
              "outlinewidth": 0,
              "ticks": ""
             }
            },
            "type": "scatterpolar"
           }
          ],
          "scatterpolargl": [
           {
            "marker": {
             "colorbar": {
              "outlinewidth": 0,
              "ticks": ""
             }
            },
            "type": "scatterpolargl"
           }
          ],
          "scatterternary": [
           {
            "marker": {
             "colorbar": {
              "outlinewidth": 0,
              "ticks": ""
             }
            },
            "type": "scatterternary"
           }
          ],
          "surface": [
           {
            "colorbar": {
             "outlinewidth": 0,
             "ticks": ""
            },
            "colorscale": [
             [
              0,
              "#0d0887"
             ],
             [
              0.1111111111111111,
              "#46039f"
             ],
             [
              0.2222222222222222,
              "#7201a8"
             ],
             [
              0.3333333333333333,
              "#9c179e"
             ],
             [
              0.4444444444444444,
              "#bd3786"
             ],
             [
              0.5555555555555556,
              "#d8576b"
             ],
             [
              0.6666666666666666,
              "#ed7953"
             ],
             [
              0.7777777777777778,
              "#fb9f3a"
             ],
             [
              0.8888888888888888,
              "#fdca26"
             ],
             [
              1,
              "#f0f921"
             ]
            ],
            "type": "surface"
           }
          ],
          "table": [
           {
            "cells": {
             "fill": {
              "color": "#EBF0F8"
             },
             "line": {
              "color": "white"
             }
            },
            "header": {
             "fill": {
              "color": "#C8D4E3"
             },
             "line": {
              "color": "white"
             }
            },
            "type": "table"
           }
          ]
         },
         "layout": {
          "annotationdefaults": {
           "arrowcolor": "#2a3f5f",
           "arrowhead": 0,
           "arrowwidth": 1
          },
          "autotypenumbers": "strict",
          "coloraxis": {
           "colorbar": {
            "outlinewidth": 0,
            "ticks": ""
           }
          },
          "colorscale": {
           "diverging": [
            [
             0,
             "#8e0152"
            ],
            [
             0.1,
             "#c51b7d"
            ],
            [
             0.2,
             "#de77ae"
            ],
            [
             0.3,
             "#f1b6da"
            ],
            [
             0.4,
             "#fde0ef"
            ],
            [
             0.5,
             "#f7f7f7"
            ],
            [
             0.6,
             "#e6f5d0"
            ],
            [
             0.7,
             "#b8e186"
            ],
            [
             0.8,
             "#7fbc41"
            ],
            [
             0.9,
             "#4d9221"
            ],
            [
             1,
             "#276419"
            ]
           ],
           "sequential": [
            [
             0,
             "#0d0887"
            ],
            [
             0.1111111111111111,
             "#46039f"
            ],
            [
             0.2222222222222222,
             "#7201a8"
            ],
            [
             0.3333333333333333,
             "#9c179e"
            ],
            [
             0.4444444444444444,
             "#bd3786"
            ],
            [
             0.5555555555555556,
             "#d8576b"
            ],
            [
             0.6666666666666666,
             "#ed7953"
            ],
            [
             0.7777777777777778,
             "#fb9f3a"
            ],
            [
             0.8888888888888888,
             "#fdca26"
            ],
            [
             1,
             "#f0f921"
            ]
           ],
           "sequentialminus": [
            [
             0,
             "#0d0887"
            ],
            [
             0.1111111111111111,
             "#46039f"
            ],
            [
             0.2222222222222222,
             "#7201a8"
            ],
            [
             0.3333333333333333,
             "#9c179e"
            ],
            [
             0.4444444444444444,
             "#bd3786"
            ],
            [
             0.5555555555555556,
             "#d8576b"
            ],
            [
             0.6666666666666666,
             "#ed7953"
            ],
            [
             0.7777777777777778,
             "#fb9f3a"
            ],
            [
             0.8888888888888888,
             "#fdca26"
            ],
            [
             1,
             "#f0f921"
            ]
           ]
          },
          "colorway": [
           "#636efa",
           "#EF553B",
           "#00cc96",
           "#ab63fa",
           "#FFA15A",
           "#19d3f3",
           "#FF6692",
           "#B6E880",
           "#FF97FF",
           "#FECB52"
          ],
          "font": {
           "color": "#2a3f5f"
          },
          "geo": {
           "bgcolor": "white",
           "lakecolor": "white",
           "landcolor": "#E5ECF6",
           "showlakes": true,
           "showland": true,
           "subunitcolor": "white"
          },
          "hoverlabel": {
           "align": "left"
          },
          "hovermode": "closest",
          "mapbox": {
           "style": "light"
          },
          "paper_bgcolor": "white",
          "plot_bgcolor": "#E5ECF6",
          "polar": {
           "angularaxis": {
            "gridcolor": "white",
            "linecolor": "white",
            "ticks": ""
           },
           "bgcolor": "#E5ECF6",
           "radialaxis": {
            "gridcolor": "white",
            "linecolor": "white",
            "ticks": ""
           }
          },
          "scene": {
           "xaxis": {
            "backgroundcolor": "#E5ECF6",
            "gridcolor": "white",
            "gridwidth": 2,
            "linecolor": "white",
            "showbackground": true,
            "ticks": "",
            "zerolinecolor": "white"
           },
           "yaxis": {
            "backgroundcolor": "#E5ECF6",
            "gridcolor": "white",
            "gridwidth": 2,
            "linecolor": "white",
            "showbackground": true,
            "ticks": "",
            "zerolinecolor": "white"
           },
           "zaxis": {
            "backgroundcolor": "#E5ECF6",
            "gridcolor": "white",
            "gridwidth": 2,
            "linecolor": "white",
            "showbackground": true,
            "ticks": "",
            "zerolinecolor": "white"
           }
          },
          "shapedefaults": {
           "line": {
            "color": "#2a3f5f"
           }
          },
          "ternary": {
           "aaxis": {
            "gridcolor": "white",
            "linecolor": "white",
            "ticks": ""
           },
           "baxis": {
            "gridcolor": "white",
            "linecolor": "white",
            "ticks": ""
           },
           "bgcolor": "#E5ECF6",
           "caxis": {
            "gridcolor": "white",
            "linecolor": "white",
            "ticks": ""
           }
          },
          "title": {
           "x": 0.05
          },
          "xaxis": {
           "automargin": true,
           "gridcolor": "white",
           "linecolor": "white",
           "ticks": "",
           "title": {
            "standoff": 15
           },
           "zerolinecolor": "white",
           "zerolinewidth": 2
          },
          "yaxis": {
           "automargin": true,
           "gridcolor": "white",
           "linecolor": "white",
           "ticks": "",
           "title": {
            "standoff": 15
           },
           "zerolinecolor": "white",
           "zerolinewidth": 2
          }
         }
        },
        "title": {
         "text": "Distribuição de Gols Feitos x Gols Tomados por Jogo"
        },
        "xaxis": {
         "anchor": "y",
         "domain": [
          0,
          1
         ],
         "title": {
          "text": "Gols Feitos"
         }
        },
        "yaxis": {
         "anchor": "x",
         "domain": [
          0,
          1
         ],
         "title": {
          "text": "Gols Tomados"
         }
        }
       }
      }
     },
     "metadata": {},
     "output_type": "display_data"
    }
   ],
   "source": [
    "#### solução com plotly\n",
    "\n",
    "fig = px.scatter(gols, x='gols_1', y='gols_2', title='Distribuição de Gols Feitos x Gols Tomados por Jogo')\n",
    "fig.update_layout(\n",
    "    xaxis_title='Gols Feitos',\n",
    "    yaxis_title='Gols Tomados',\n",
    "    grid=dict(),\n",
    ")\n",
    "fig.show()\n"
   ]
  },
  {
   "cell_type": "markdown",
   "metadata": {},
   "source": [
    "#### Q4.\n",
    "\n",
    "Apresente um gráfico de barras com o top 10 países que mais participaram de copas do mundo, onde no eixo x devem estar o nome dos países e no eixo y a contagem de participações. Você deve separar a contagem de participações em copas femininas e masculinas, empilhando as barras de cada informação.\n",
    "\n",
    "No exemplo de barras empilhadas da galeria do matplotlib, imagine que a parte azul são as participações do país em copas masculinas, e em laranja as participações femininas:\n",
    "* https://matplotlib.org/stable/gallery/lines_bars_and_markers/bar_stacked.html\n",
    "\n",
    "Você deve implementar essa visualização nas três bibliotecas que vimos:\n",
    "* Matplotlib\n",
    "* Seaborn\n",
    "* Plotly\n",
    "\n",
    "Garanta que o gráfico tenha pelo menos os atributos:\n",
    "* título\n",
    "* rótulos de dimensão.\n",
    "* legenda"
   ]
  },
  {
   "cell_type": "code",
   "execution_count": 8,
   "metadata": {},
   "outputs": [
    {
     "data": {
      "image/png": "[encoded data removed]",
      "text/plain": [
       "<Figure size 1000x600 with 1 Axes>"
      ]
     },
     "metadata": {},
     "output_type": "display_data"
    }
   ],
   "source": [
    "wc_participacoes = pd.melt(\n",
    "    wc, \n",
    "    id_vars=[\"ano\", \"copa\"], \n",
    "    value_vars=[\"time_1\", \"time_2\"], \n",
    "    value_name=\"país\"\n",
    ").drop_duplicates(subset=[\"ano\", \"copa\", \"país\"])\n",
    "\n",
    "participacoes = wc_participacoes.groupby([\"país\", \"copa\"]).size().unstack(fill_value=0)\n",
    "top10_paises = participacoes.sum(axis=1).nlargest(10).index\n",
    "participacoes_top10 = participacoes.loc[top10_paises]\n",
    "\n",
    "# Dados para gráfico\n",
    "paises = participacoes_top10.index\n",
    "masculinas = participacoes_top10[\"Masculina\"]\n",
    "femininas = participacoes_top10[\"Feminina\"]\n",
    "\n",
    "# ----- Matplotlib -----\n",
    "fig, ax = plt.subplots(figsize=(10, 6))\n",
    "ax.bar(paises, masculinas, label=\"Masculinas\", color=\"blue\")\n",
    "ax.bar(paises, femininas, bottom=masculinas, label=\"Femininas\", color=\"orange\")\n",
    "ax.set_title(\"Top 10 Países com Mais Participações em Copas do Mundo\")\n",
    "ax.set_xlabel(\"Países\")\n",
    "ax.set_ylabel(\"Número de Participações\")\n",
    "ax.legend()\n",
    "plt.show()\n"
   ]
  },
  {
   "cell_type": "code",
   "execution_count": 9,
   "metadata": {},
   "outputs": [
    {
     "data": {
      "image/png": "[encoded data removed]",
      "text/plain": [
       "<Figure size 1000x600 with 1 Axes>"
      ]
     },
     "metadata": {},
     "output_type": "display_data"
    }
   ],
   "source": [
    "#### solução com seaborn\n",
    "participacoes_top10_reset = participacoes_top10.reset_index()\n",
    "participacoes_top10_melted = participacoes_top10_reset.melt(\n",
    "    id_vars=\"país\", value_vars=[\"Masculina\", \"Feminina\"], var_name=\"Tipo\", value_name=\"Participações\"\n",
    ")\n",
    "plt.figure(figsize=(10, 6))\n",
    "sns.barplot(\n",
    "    data=participacoes_top10_melted,\n",
    "    x=\"país\",\n",
    "    y=\"Participações\",\n",
    "    hue=\"Tipo\",\n",
    "    palette={\"Masculina\": \"blue\", \"Feminina\": \"orange\"}\n",
    ")\n",
    "plt.title(\"Top 10 Países com Mais Participações em Copas do Mundo\")\n",
    "plt.xlabel(\"Países\")\n",
    "plt.ylabel(\"Número de Participações\")\n",
    "plt.xticks(rotation=45)\n",
    "plt.tight_layout()\n",
    "plt.legend(title=\"Tipo\")\n",
    "plt.show()"
   ]
  },
  {
   "cell_type": "code",
   "execution_count": 20,
   "metadata": {},
   "outputs": [
    {
     "data": {
      "application/vnd.plotly.v1+json": {
       "config": {
        "plotlyServerURL": "https://plot.ly"
       },
       "data": [
        {
         "alignmentgroup": "True",
         "hovertemplate": "variable=Masculina<br>Países=%{x}<br>Número de Participações=%{y}<extra></extra>",
         "legendgroup": "Masculina",
         "marker": {
          "color": "blue",
          "pattern": {
           "shape": ""
          }
         },
         "name": "Masculina",
         "offsetgroup": "Masculina",
         "orientation": "v",
         "showlegend": true,
         "textposition": "auto",
         "type": "bar",
         "x": [
          "Brazil",
          "Argentina",
          "England",
          "Italy",
          "France",
          "Sweden",
          "Germany",
          "Mexico",
          "United States",
          "Spain"
         ],
         "xaxis": "x",
         "y": [
          22,
          18,
          16,
          18,
          16,
          12,
          11,
          17,
          11,
          16
         ],
         "yaxis": "y"
        },
        {
         "alignmentgroup": "True",
         "hovertemplate": "variable=Feminina<br>Países=%{x}<br>Número de Participações=%{y}<extra></extra>",
         "legendgroup": "Feminina",
         "marker": {
          "color": "orange",
          "pattern": {
           "shape": ""
          }
         },
         "name": "Feminina",
         "offsetgroup": "Feminina",
         "orientation": "v",
         "showlegend": true,
         "textposition": "auto",
         "type": "bar",
         "x": [
          "Brazil",
          "Argentina",
          "England",
          "Italy",
          "France",
          "Sweden",
          "Germany",
          "Mexico",
          "United States",
          "Spain"
         ],
         "xaxis": "x",
         "y": [
          9,
          4,
          6,
          4,
          5,
          9,
          9,
          3,
          9,
          3
         ],
         "yaxis": "y"
        }
       ],
       "layout": {
        "barmode": "stack",
        "legend": {
         "title": {
          "text": "Tipo"
         },
         "tracegroupgap": 0
        },
        "template": {
         "data": {
          "bar": [
           {
            "error_x": {
             "color": "#2a3f5f"
            },
            "error_y": {
             "color": "#2a3f5f"
            },
            "marker": {
             "line": {
              "color": "white",
              "width": 0.5
             },
             "pattern": {
              "fillmode": "overlay",
              "size": 10,
              "solidity": 0.2
             }
            },
            "type": "bar"
           }
          ],
          "barpolar": [
           {
            "marker": {
             "line": {
              "color": "white",
              "width": 0.5
             },
             "pattern": {
              "fillmode": "overlay",
              "size": 10,
              "solidity": 0.2
             }
            },
            "type": "barpolar"
           }
          ],
          "carpet": [
           {
            "aaxis": {
             "endlinecolor": "#2a3f5f",
             "gridcolor": "#C8D4E3",
             "linecolor": "#C8D4E3",
             "minorgridcolor": "#C8D4E3",
             "startlinecolor": "#2a3f5f"
            },
            "baxis": {
             "endlinecolor": "#2a3f5f",
             "gridcolor": "#C8D4E3",
             "linecolor": "#C8D4E3",
             "minorgridcolor": "#C8D4E3",
             "startlinecolor": "#2a3f5f"
            },
            "type": "carpet"
           }
          ],
          "choropleth": [
           {
            "colorbar": {
             "outlinewidth": 0,
             "ticks": ""
            },
            "type": "choropleth"
           }
          ],
          "contour": [
           {
            "colorbar": {
             "outlinewidth": 0,
             "ticks": ""
            },
            "colorscale": [
             [
              0,
              "#0d0887"
             ],
             [
              0.1111111111111111,
              "#46039f"
             ],
             [
              0.2222222222222222,
              "#7201a8"
             ],
             [
              0.3333333333333333,
              "#9c179e"
             ],
             [
              0.4444444444444444,
              "#bd3786"
             ],
             [
              0.5555555555555556,
              "#d8576b"
             ],
             [
              0.6666666666666666,
              "#ed7953"
             ],
             [
              0.7777777777777778,
              "#fb9f3a"
             ],
             [
              0.8888888888888888,
              "#fdca26"
             ],
             [
              1,
              "#f0f921"
             ]
            ],
            "type": "contour"
           }
          ],
          "contourcarpet": [
           {
            "colorbar": {
             "outlinewidth": 0,
             "ticks": ""
            },
            "type": "contourcarpet"
           }
          ],
          "heatmap": [
           {
            "colorbar": {
             "outlinewidth": 0,
             "ticks": ""
            },
            "colorscale": [
             [
              0,
              "#0d0887"
             ],
             [
              0.1111111111111111,
              "#46039f"
             ],
             [
              0.2222222222222222,
              "#7201a8"
             ],
             [
              0.3333333333333333,
              "#9c179e"
             ],
             [
              0.4444444444444444,
              "#bd3786"
             ],
             [
              0.5555555555555556,
              "#d8576b"
             ],
             [
              0.6666666666666666,
              "#ed7953"
             ],
             [
              0.7777777777777778,
              "#fb9f3a"
             ],
             [
              0.8888888888888888,
              "#fdca26"
             ],
             [
              1,
              "#f0f921"
             ]
            ],
            "type": "heatmap"
           }
          ],
          "heatmapgl": [
           {
            "colorbar": {
             "outlinewidth": 0,
             "ticks": ""
            },
            "colorscale": [
             [
              0,
              "#0d0887"
             ],
             [
              0.1111111111111111,
              "#46039f"
             ],
             [
              0.2222222222222222,
              "#7201a8"
             ],
             [
              0.3333333333333333,
              "#9c179e"
             ],
             [
              0.4444444444444444,
              "#bd3786"
             ],
             [
              0.5555555555555556,
              "#d8576b"
             ],
             [
              0.6666666666666666,
              "#ed7953"
             ],
             [
              0.7777777777777778,
              "#fb9f3a"
             ],
             [
              0.8888888888888888,
              "#fdca26"
             ],
             [
              1,
              "#f0f921"
             ]
            ],
            "type": "heatmapgl"
           }
          ],
          "histogram": [
           {
            "marker": {
             "pattern": {
              "fillmode": "overlay",
              "size": 10,
              "solidity": 0.2
             }
            },
            "type": "histogram"
           }
          ],
          "histogram2d": [
           {
            "colorbar": {
             "outlinewidth": 0,
             "ticks": ""
            },
            "colorscale": [
             [
              0,
              "#0d0887"
             ],
             [
              0.1111111111111111,
              "#46039f"
             ],
             [
              0.2222222222222222,
              "#7201a8"
             ],
             [
              0.3333333333333333,
              "#9c179e"
             ],
             [
              0.4444444444444444,
              "#bd3786"
             ],
             [
              0.5555555555555556,
              "#d8576b"
             ],
             [
              0.6666666666666666,
              "#ed7953"
             ],
             [
              0.7777777777777778,
              "#fb9f3a"
             ],
             [
              0.8888888888888888,
              "#fdca26"
             ],
             [
              1,
              "#f0f921"
             ]
            ],
            "type": "histogram2d"
           }
          ],
          "histogram2dcontour": [
           {
            "colorbar": {
             "outlinewidth": 0,
             "ticks": ""
            },
            "colorscale": [
             [
              0,
              "#0d0887"
             ],
             [
              0.1111111111111111,
              "#46039f"
             ],
             [
              0.2222222222222222,
              "#7201a8"
             ],
             [
              0.3333333333333333,
              "#9c179e"
             ],
             [
              0.4444444444444444,
              "#bd3786"
             ],
             [
              0.5555555555555556,
              "#d8576b"
             ],
             [
              0.6666666666666666,
              "#ed7953"
             ],
             [
              0.7777777777777778,
              "#fb9f3a"
             ],
             [
              0.8888888888888888,
              "#fdca26"
             ],
             [
              1,
              "#f0f921"
             ]
            ],
            "type": "histogram2dcontour"
           }
          ],
          "mesh3d": [
           {
            "colorbar": {
             "outlinewidth": 0,
             "ticks": ""
            },
            "type": "mesh3d"
           }
          ],
          "parcoords": [
           {
            "line": {
             "colorbar": {
              "outlinewidth": 0,
              "ticks": ""
             }
            },
            "type": "parcoords"
           }
          ],
          "pie": [
           {
            "automargin": true,
            "type": "pie"
           }
          ],
          "scatter": [
           {
            "fillpattern": {
             "fillmode": "overlay",
             "size": 10,
             "solidity": 0.2
            },
            "type": "scatter"
           }
          ],
          "scatter3d": [
           {
            "line": {
             "colorbar": {
              "outlinewidth": 0,
              "ticks": ""
             }
            },
            "marker": {
             "colorbar": {
              "outlinewidth": 0,
              "ticks": ""
             }
            },
            "type": "scatter3d"
           }
          ],
          "scattercarpet": [
           {
            "marker": {
             "colorbar": {
              "outlinewidth": 0,
              "ticks": ""
             }
            },
            "type": "scattercarpet"
           }
          ],
          "scattergeo": [
           {
            "marker": {
             "colorbar": {
              "outlinewidth": 0,
              "ticks": ""
             }
            },
            "type": "scattergeo"
           }
          ],
          "scattergl": [
           {
            "marker": {
             "colorbar": {
              "outlinewidth": 0,
              "ticks": ""
             }
            },
            "type": "scattergl"
           }
          ],
          "scattermapbox": [
           {
            "marker": {
             "colorbar": {
              "outlinewidth": 0,
              "ticks": ""
             }
            },
            "type": "scattermapbox"
           }
          ],
          "scatterpolar": [
           {
            "marker": {
             "colorbar": {
              "outlinewidth": 0,
              "ticks": ""
             }
            },
            "type": "scatterpolar"
           }
          ],
          "scatterpolargl": [
           {
            "marker": {
             "colorbar": {
              "outlinewidth": 0,
              "ticks": ""
             }
            },
            "type": "scatterpolargl"
           }
          ],
          "scatterternary": [
           {
            "marker": {
             "colorbar": {
              "outlinewidth": 0,
              "ticks": ""
             }
            },
            "type": "scatterternary"
           }
          ],
          "surface": [
           {
            "colorbar": {
             "outlinewidth": 0,
             "ticks": ""
            },
            "colorscale": [
             [
              0,
              "#0d0887"
             ],
             [
              0.1111111111111111,
              "#46039f"
             ],
             [
              0.2222222222222222,
              "#7201a8"
             ],
             [
              0.3333333333333333,
              "#9c179e"
             ],
             [
              0.4444444444444444,
              "#bd3786"
             ],
             [
              0.5555555555555556,
              "#d8576b"
             ],
             [
              0.6666666666666666,
              "#ed7953"
             ],
             [
              0.7777777777777778,
              "#fb9f3a"
             ],
             [
              0.8888888888888888,
              "#fdca26"
             ],
             [
              1,
              "#f0f921"
             ]
            ],
            "type": "surface"
           }
          ],
          "table": [
           {
            "cells": {
             "fill": {
              "color": "#EBF0F8"
             },
             "line": {
              "color": "white"
             }
            },
            "header": {
             "fill": {
              "color": "#C8D4E3"
             },
             "line": {
              "color": "white"
             }
            },
            "type": "table"
           }
          ]
         },
         "layout": {
          "annotationdefaults": {
           "arrowcolor": "#2a3f5f",
           "arrowhead": 0,
           "arrowwidth": 1
          },
          "autotypenumbers": "strict",
          "coloraxis": {
           "colorbar": {
            "outlinewidth": 0,
            "ticks": ""
           }
          },
          "colorscale": {
           "diverging": [
            [
             0,
             "#8e0152"
            ],
            [
             0.1,
             "#c51b7d"
            ],
            [
             0.2,
             "#de77ae"
            ],
            [
             0.3,
             "#f1b6da"
            ],
            [
             0.4,
             "#fde0ef"
            ],
            [
             0.5,
             "#f7f7f7"
            ],
            [
             0.6,
             "#e6f5d0"
            ],
            [
             0.7,
             "#b8e186"
            ],
            [
             0.8,
             "#7fbc41"
            ],
            [
             0.9,
             "#4d9221"
            ],
            [
             1,
             "#276419"
            ]
           ],
           "sequential": [
            [
             0,
             "#0d0887"
            ],
            [
             0.1111111111111111,
             "#46039f"
            ],
            [
             0.2222222222222222,
             "#7201a8"
            ],
            [
             0.3333333333333333,
             "#9c179e"
            ],
            [
             0.4444444444444444,
             "#bd3786"
            ],
            [
             0.5555555555555556,
             "#d8576b"
            ],
            [
             0.6666666666666666,
             "#ed7953"
            ],
            [
             0.7777777777777778,
             "#fb9f3a"
            ],
            [
             0.8888888888888888,
             "#fdca26"
            ],
            [
             1,
             "#f0f921"
            ]
           ],
           "sequentialminus": [
            [
             0,
             "#0d0887"
            ],
            [
             0.1111111111111111,
             "#46039f"
            ],
            [
             0.2222222222222222,
             "#7201a8"
            ],
            [
             0.3333333333333333,
             "#9c179e"
            ],
            [
             0.4444444444444444,
             "#bd3786"
            ],
            [
             0.5555555555555556,
             "#d8576b"
            ],
            [
             0.6666666666666666,
             "#ed7953"
            ],
            [
             0.7777777777777778,
             "#fb9f3a"
            ],
            [
             0.8888888888888888,
             "#fdca26"
            ],
            [
             1,
             "#f0f921"
            ]
           ]
          },
          "colorway": [
           "#636efa",
           "#EF553B",
           "#00cc96",
           "#ab63fa",
           "#FFA15A",
           "#19d3f3",
           "#FF6692",
           "#B6E880",
           "#FF97FF",
           "#FECB52"
          ],
          "font": {
           "color": "#2a3f5f"
          },
          "geo": {
           "bgcolor": "white",
           "lakecolor": "white",
           "landcolor": "white",
           "showlakes": true,
           "showland": true,
           "subunitcolor": "#C8D4E3"
          },
          "hoverlabel": {
           "align": "left"
          },
          "hovermode": "closest",
          "mapbox": {
           "style": "light"
          },
          "paper_bgcolor": "white",
          "plot_bgcolor": "white",
          "polar": {
           "angularaxis": {
            "gridcolor": "#EBF0F8",
            "linecolor": "#EBF0F8",
            "ticks": ""
           },
           "bgcolor": "white",
           "radialaxis": {
            "gridcolor": "#EBF0F8",
            "linecolor": "#EBF0F8",
            "ticks": ""
           }
          },
          "scene": {
           "xaxis": {
            "backgroundcolor": "white",
            "gridcolor": "#DFE8F3",
            "gridwidth": 2,
            "linecolor": "#EBF0F8",
            "showbackground": true,
            "ticks": "",
            "zerolinecolor": "#EBF0F8"
           },
           "yaxis": {
            "backgroundcolor": "white",
            "gridcolor": "#DFE8F3",
            "gridwidth": 2,
            "linecolor": "#EBF0F8",
            "showbackground": true,
            "ticks": "",
            "zerolinecolor": "#EBF0F8"
           },
           "zaxis": {
            "backgroundcolor": "white",
            "gridcolor": "#DFE8F3",
            "gridwidth": 2,
            "linecolor": "#EBF0F8",
            "showbackground": true,
            "ticks": "",
            "zerolinecolor": "#EBF0F8"
           }
          },
          "shapedefaults": {
           "line": {
            "color": "#2a3f5f"
           }
          },
          "ternary": {
           "aaxis": {
            "gridcolor": "#DFE8F3",
            "linecolor": "#A2B1C6",
            "ticks": ""
           },
           "baxis": {
            "gridcolor": "#DFE8F3",
            "linecolor": "#A2B1C6",
            "ticks": ""
           },
           "bgcolor": "white",
           "caxis": {
            "gridcolor": "#DFE8F3",
            "linecolor": "#A2B1C6",
            "ticks": ""
           }
          },
          "title": {
           "x": 0.05
          },
          "xaxis": {
           "automargin": true,
           "gridcolor": "#EBF0F8",
           "linecolor": "#EBF0F8",
           "ticks": "",
           "title": {
            "standoff": 15
           },
           "zerolinecolor": "#EBF0F8",
           "zerolinewidth": 2
          },
          "yaxis": {
           "automargin": true,
           "gridcolor": "#EBF0F8",
           "linecolor": "#EBF0F8",
           "ticks": "",
           "title": {
            "standoff": 15
           },
           "zerolinecolor": "#EBF0F8",
           "zerolinewidth": 2
          }
         }
        },
        "title": {
         "text": "Top 10 Países com Mais Participações em Copas do Mundo"
        },
        "xaxis": {
         "anchor": "y",
         "domain": [
          0,
          1
         ],
         "tickangle": 45,
         "title": {
          "text": "Países"
         }
        },
        "yaxis": {
         "anchor": "x",
         "domain": [
          0,
          1
         ],
         "title": {
          "text": "Número de Participações"
         }
        }
       }
      }
     },
     "metadata": {},
     "output_type": "display_data"
    }
   ],
   "source": [
    "#### solução com plotly\n",
    "fig = px.bar(\n",
    "    participacoes_top10_reset,\n",
    "    x=\"país\",\n",
    "    y=[\"Masculina\", \"Feminina\"],\n",
    "    title=\"Top 10 Países com Mais Participações em Copas do Mundo\",\n",
    "    labels={\"value\": \"Número de Participações\", \"país\": \"Países\"},\n",
    "    color_discrete_map={\"Masculina\": \"blue\", \"Feminina\": \"orange\"},\n",
    ")\n",
    "fig.update_layout(\n",
    "    barmode=\"stack\",\n",
    "    xaxis_title=\"Países\",\n",
    "    yaxis_title=\"Número de Participações\",\n",
    "    legend_title=\"Tipo\",\n",
    "    xaxis_tickangle=45,\n",
    "    template=\"plotly_white\",\n",
    ")\n",
    "fig.show()"
   ]
  },
  {
   "cell_type": "markdown",
   "metadata": {},
   "source": [
    "#### Q5.\n",
    "\n",
    "Vamos fazer um compilado com as estatísticas históricas de copas do mundo!\n",
    "\n",
    "Com a biblioteca de sua preferência você deve criar 4 subplots organizados em um grid de 2 linhas e 2 colunas. Eles devem conter os seguintes gráficos:\n",
    "* Linha 1, coluna 1: Gráfico de barras com a quantidade de jogos que aconteceram por ano\n",
    "* Linha 1, coluna 2: Gráfico de área (referências a seguir) com o total de gols por ano, separando as informações de `gols_1` e `gols_2` para distinguir gols em casa e do time visitante.\n",
    "* Linha 2, coluna 1: Gráfico de área com o total de cartões por ano, separando as informações de cartões amarelos e cartões vermelhos, mas agregando cartões do time 1 ou time 2. Ou seja, uma área com `cartao_amarelo_1 + cartao_amarelo_2` e outra área com `cartao_vermelho_1 + cartao_vermelho_2`.\n",
    "* Linha 2, coluna 2: Gráfico de barras com o total de gols contra por ano, somando `gols_contra_1` e `gols_contra_2`.\n",
    "\n",
    "Referências sobre gráfico de área\n",
    "* Matplotlib: https://matplotlib.org/stable/gallery/lines_bars_and_markers/stackplot_demo.html#sphx-glr-gallery-lines-bars-and-markers-stackplot-demo-py\n",
    "* Pandas + Matplotlib: https://pandas.pydata.org/docs/reference/api/pandas.DataFrame.plot.area.html\n",
    "* Seaborn: https://seaborn.pydata.org/generated/seaborn.objects.Area.html\n",
    "* Plotly: https://plotly.com/python/filled-area-plots/"
   ]
  },
  {
   "cell_type": "code",
   "execution_count": 32,
   "metadata": {},
   "outputs": [
    {
     "data": {
      "image/png": "[encoded data removed]",
      "text/plain": [
       "<Figure size 1500x1000 with 4 Axes>"
      ]
     },
     "metadata": {},
     "output_type": "display_data"
    }
   ],
   "source": [
    "# Conversão de colunas relevantes para tipos adequados\n",
    "wc['data'] = pd.to_datetime(wc['data'])\n",
    "wc['ano'] = wc['ano'].astype('int64')\n",
    "\n",
    "# Preparação dos dados agregados\n",
    "jogos_por_ano = wc.groupby('ano').size()\n",
    "gols_por_ano = wc.groupby('ano')[['gols_1', 'gols_2']].sum()\n",
    "cartoes_por_ano = wc.groupby('ano')[['cartao_amarelo_1', 'cartao_amarelo_2', 'cartao_vermelho_1', 'cartao_vermelho_2']].count()\n",
    "cartoes_por_ano['cartoes_vermelhos'] = cartoes_por_ano[['cartao_vermelho_1', 'cartao_vermelho_2']].sum(axis=1)\n",
    "cartoes_por_ano['cartoes_amarelos'] = cartoes_por_ano[['cartao_amarelo_1', 'cartao_amarelo_2']].sum(axis=1)\n",
    "gols_contra_por_ano = wc.groupby('ano')[['gols_1_contra', 'gols_2_contra']].count().sum(axis=1)\n",
    "\n",
    "# Configuração dos subplots\n",
    "fig, axs = plt.subplots(2, 2, figsize=(15, 10))\n",
    "\n",
    "# Gráfico 1: Quantidade de jogos por ano\n",
    "axs[0, 0].bar(jogos_por_ano.index, jogos_por_ano.values, color='blue')\n",
    "axs[0, 0].set_title('Quantidade de Jogos por Ano')\n",
    "axs[0, 0].set_xlabel('Ano')\n",
    "axs[0, 0].set_ylabel('Quantidade de Jogos')\n",
    "\n",
    "# Gráfico 2: Total de gols por ano\n",
    "axs[0, 1].stackplot(gols_por_ano.index, gols_por_ano['gols_1'], gols_por_ano['gols_2'],\n",
    "                    labels=['Gols Visitante', 'Gols Casa'], colors=['orange', 'green'])\n",
    "axs[0, 1].set_title('Total de Gols por Ano')\n",
    "axs[0, 1].set_xlabel('Ano')\n",
    "axs[0, 1].set_ylabel('Total de Gols')\n",
    "axs[0, 1].legend(loc='upper left')\n",
    "\n",
    "# Gráfico 3: Total de cartões por ano\n",
    "axs[1, 0].stackplot(cartoes_por_ano.index, cartoes_por_ano['cartoes_amarelos'], cartoes_por_ano['cartoes_vermelhos'],\n",
    "                    labels=['Cartões Amarelos', 'Cartões Vermelhos'], colors=['yellow', 'red'])\n",
    "axs[1, 0].set_title('Total de Cartões por Ano')\n",
    "axs[1, 0].set_xlabel('Ano')\n",
    "axs[1, 0].set_ylabel('Total de Cartões')\n",
    "axs[1, 0].legend(loc='upper left')\n",
    "\n",
    "# Gráfico 4: Total de gols contra por ano\n",
    "axs[1, 1].bar(gols_contra_por_ano.index, gols_contra_por_ano.values, color='purple')\n",
    "axs[1, 1].set_title('Total de Gols Contra por Ano')\n",
    "axs[1, 1].set_xlabel('Ano')\n",
    "axs[1, 1].set_ylabel('Total de Gols Contra')\n",
    "\n",
    "# Ajuste dos layouts\n",
    "plt.tight_layout()\n",
    "plt.show()"
   ]
  }
 ],
 "metadata": {
  "kernelspec": {
   "display_name": "Python 3",
   "language": "python",
   "name": "python3"
  },
  "language_info": {
   "codemirror_mode": {
    "name": "ipython",
    "version": 3
   },
   "file_extension": ".py",
   "mimetype": "text/x-python",
   "name": "python",
   "nbconvert_exporter": "python",
   "pygments_lexer": "ipython3",
   "version": "3.12.6"
  }
 },
 "nbformat": 4,
 "nbformat_minor": 2
}
